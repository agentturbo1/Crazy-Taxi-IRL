{
 "cells": [
  {
   "cell_type": "markdown",
   "metadata": {
    "slideshow": {
     "slide_type": "slide"
    }
   },
   "source": [
    "# Looking at a newer data set.\n",
    "*<u>Authors:</u>* Lukas Gust, Omar Hussain.<br>\n",
    "*<u>Date:</u>* 4/21/2018<br>\n",
    "*<u>Project:</u>* Crazy-Taxi-IRL, Final Project for MATH 4100 Intro. to Data Science<br>\n",
    "\n",
    "In another notebook we looked at some taxi data from 2016 because it had GPS coordinates for pickup and dropoff information. In order to predict ending location based off starting location we would have to 'bucket' the data into bins and predict the bins, otherwise there would be an infinite amount of possible outcomes and beginnings. The 2017 data already has the locational data seperated into bins, loosely based off of neighborhoods in New York.\n",
    "\n",
    "![Taxi Zones](./zonemap.png)"
   ]
  },
  {
   "cell_type": "markdown",
   "metadata": {
    "slideshow": {
     "slide_type": "slide"
    }
   },
   "source": [
    "## First look at the zones."
   ]
  },
  {
   "cell_type": "code",
   "execution_count": 2,
   "metadata": {
    "collapsed": true,
    "slideshow": {
     "slide_type": "skip"
    }
   },
   "outputs": [],
   "source": [
    "import pandas as pd\n",
    "import seaborn as sns\n",
    "import numpy as np\n",
    "from datetime import timedelta\n",
    "import calendar\n",
    "\n",
    "from sklearn import tree, svm, metrics\n",
    "from sklearn.neighbors import KNeighborsClassifier\n",
    "from sklearn.model_selection import train_test_split, cross_val_predict, cross_val_score, KFold\n",
    "from sklearn.preprocessing import scale\n",
    "\n",
    "import matplotlib.pyplot as plt\n",
    "sns.set()\n",
    "%matplotlib inline  \n",
    "plt.rcParams['figure.figsize'] = (15, 10)"
   ]
  },
  {
   "cell_type": "code",
   "execution_count": 27,
   "metadata": {
    "slideshow": {
     "slide_type": "subslide"
    }
   },
   "outputs": [
    {
     "data": {
      "text/html": [
       "<div>\n",
       "<style>\n",
       "    .dataframe thead tr:only-child th {\n",
       "        text-align: right;\n",
       "    }\n",
       "\n",
       "    .dataframe thead th {\n",
       "        text-align: left;\n",
       "    }\n",
       "\n",
       "    .dataframe tbody tr th {\n",
       "        vertical-align: top;\n",
       "    }\n",
       "</style>\n",
       "<table border=\"1\" class=\"dataframe\">\n",
       "  <thead>\n",
       "    <tr style=\"text-align: right;\">\n",
       "      <th></th>\n",
       "      <th>OBJECTID,N,9,0</th>\n",
       "      <th>Shape_Leng,N,19,11</th>\n",
       "      <th>Area</th>\n",
       "      <th>Zone</th>\n",
       "      <th>Location ID</th>\n",
       "      <th>Borough</th>\n",
       "    </tr>\n",
       "  </thead>\n",
       "  <tbody>\n",
       "    <tr>\n",
       "      <th>0</th>\n",
       "      <td>1</td>\n",
       "      <td>0.116357</td>\n",
       "      <td>0.000782</td>\n",
       "      <td>Newark Airport</td>\n",
       "      <td>1</td>\n",
       "      <td>EWR</td>\n",
       "    </tr>\n",
       "    <tr>\n",
       "      <th>1</th>\n",
       "      <td>2</td>\n",
       "      <td>0.433470</td>\n",
       "      <td>0.004866</td>\n",
       "      <td>Jamaica Bay</td>\n",
       "      <td>2</td>\n",
       "      <td>Queens</td>\n",
       "    </tr>\n",
       "    <tr>\n",
       "      <th>2</th>\n",
       "      <td>3</td>\n",
       "      <td>0.084341</td>\n",
       "      <td>0.000314</td>\n",
       "      <td>Allerton/Pelham Gardens</td>\n",
       "      <td>3</td>\n",
       "      <td>Bronx</td>\n",
       "    </tr>\n",
       "    <tr>\n",
       "      <th>3</th>\n",
       "      <td>4</td>\n",
       "      <td>0.043567</td>\n",
       "      <td>0.000112</td>\n",
       "      <td>Alphabet City</td>\n",
       "      <td>4</td>\n",
       "      <td>Manhattan</td>\n",
       "    </tr>\n",
       "    <tr>\n",
       "      <th>4</th>\n",
       "      <td>5</td>\n",
       "      <td>0.092146</td>\n",
       "      <td>0.000498</td>\n",
       "      <td>Arden Heights</td>\n",
       "      <td>5</td>\n",
       "      <td>Staten Island</td>\n",
       "    </tr>\n",
       "  </tbody>\n",
       "</table>\n",
       "</div>"
      ],
      "text/plain": [
       "   OBJECTID,N,9,0  Shape_Leng,N,19,11      Area                     Zone  \\\n",
       "0               1            0.116357  0.000782           Newark Airport   \n",
       "1               2            0.433470  0.004866              Jamaica Bay   \n",
       "2               3            0.084341  0.000314  Allerton/Pelham Gardens   \n",
       "3               4            0.043567  0.000112            Alphabet City   \n",
       "4               5            0.092146  0.000498            Arden Heights   \n",
       "\n",
       "   Location ID        Borough  \n",
       "0            1            EWR  \n",
       "1            2         Queens  \n",
       "2            3          Bronx  \n",
       "3            4      Manhattan  \n",
       "4            5  Staten Island  "
      ]
     },
     "execution_count": 27,
     "metadata": {},
     "output_type": "execute_result"
    }
   ],
   "source": [
    "zone_df = pd.read_csv('taxi_zones.csv')\n",
    "zone_df.rename(inplace=True, columns={'zone,C,254':'Zone', 'LocationID,N,4,0':'Location ID', 'borough,C,254':'Borough', 'Shape_Area,N,19,11':'Area'})\n",
    "zone_df.sort_values('Location ID').head()"
   ]
  },
  {
   "cell_type": "code",
   "execution_count": 28,
   "metadata": {
    "slideshow": {
     "slide_type": "fragment"
    }
   },
   "outputs": [
    {
     "data": {
      "text/html": [
       "<div>\n",
       "<style>\n",
       "    .dataframe thead tr:only-child th {\n",
       "        text-align: right;\n",
       "    }\n",
       "\n",
       "    .dataframe thead th {\n",
       "        text-align: left;\n",
       "    }\n",
       "\n",
       "    .dataframe tbody tr th {\n",
       "        vertical-align: top;\n",
       "    }\n",
       "</style>\n",
       "<table border=\"1\" class=\"dataframe\">\n",
       "  <thead>\n",
       "    <tr style=\"text-align: right;\">\n",
       "      <th></th>\n",
       "      <th>OBJECTID,N,9,0</th>\n",
       "      <th>Shape_Leng,N,19,11</th>\n",
       "      <th>Area</th>\n",
       "      <th>Zone</th>\n",
       "      <th>Location ID</th>\n",
       "      <th>Borough</th>\n",
       "    </tr>\n",
       "  </thead>\n",
       "  <tbody>\n",
       "    <tr>\n",
       "      <th>56</th>\n",
       "      <td>57</td>\n",
       "      <td>0.019271</td>\n",
       "      <td>0.000018</td>\n",
       "      <td>Corona</td>\n",
       "      <td>56</td>\n",
       "      <td>Queens</td>\n",
       "    </tr>\n",
       "    <tr>\n",
       "      <th>103</th>\n",
       "      <td>104</td>\n",
       "      <td>0.021221</td>\n",
       "      <td>0.000012</td>\n",
       "      <td>Governor's Island/Ellis Island/Liberty Island</td>\n",
       "      <td>103</td>\n",
       "      <td>Manhattan</td>\n",
       "    </tr>\n",
       "    <tr>\n",
       "      <th>104</th>\n",
       "      <td>105</td>\n",
       "      <td>0.077425</td>\n",
       "      <td>0.000369</td>\n",
       "      <td>Governor's Island/Ellis Island/Liberty Island</td>\n",
       "      <td>103</td>\n",
       "      <td>Manhattan</td>\n",
       "    </tr>\n",
       "  </tbody>\n",
       "</table>\n",
       "</div>"
      ],
      "text/plain": [
       "     OBJECTID,N,9,0  Shape_Leng,N,19,11      Area  \\\n",
       "56               57            0.019271  0.000018   \n",
       "103             104            0.021221  0.000012   \n",
       "104             105            0.077425  0.000369   \n",
       "\n",
       "                                              Zone  Location ID    Borough  \n",
       "56                                          Corona           56     Queens  \n",
       "103  Governor's Island/Ellis Island/Liberty Island          103  Manhattan  \n",
       "104  Governor's Island/Ellis Island/Liberty Island          103  Manhattan  "
      ]
     },
     "execution_count": 28,
     "metadata": {},
     "output_type": "execute_result"
    }
   ],
   "source": [
    "zone_df[zone_df.duplicated(subset='Location ID')]"
   ]
  },
  {
   "cell_type": "code",
   "execution_count": 29,
   "metadata": {
    "collapsed": true,
    "slideshow": {
     "slide_type": "fragment"
    }
   },
   "outputs": [],
   "source": [
    "zone_df.drop_duplicates(subset='Location ID', inplace=True)\n",
    "zone_df.reset_index(inplace=True)"
   ]
  },
  {
   "cell_type": "code",
   "execution_count": 30,
   "metadata": {
    "collapsed": true,
    "slideshow": {
     "slide_type": "fragment"
    }
   },
   "outputs": [],
   "source": [
    "zone_df.drop(labels=['index', 'OBJECTID,N,9,0', 'Shape_Leng,N,19,11'], inplace=True, axis=1)"
   ]
  },
  {
   "cell_type": "code",
   "execution_count": 31,
   "metadata": {
    "scrolled": true,
    "slideshow": {
     "slide_type": "fragment"
    }
   },
   "outputs": [
    {
     "data": {
      "text/html": [
       "<div>\n",
       "<style>\n",
       "    .dataframe thead tr:only-child th {\n",
       "        text-align: right;\n",
       "    }\n",
       "\n",
       "    .dataframe thead th {\n",
       "        text-align: left;\n",
       "    }\n",
       "\n",
       "    .dataframe tbody tr th {\n",
       "        vertical-align: top;\n",
       "    }\n",
       "</style>\n",
       "<table border=\"1\" class=\"dataframe\">\n",
       "  <thead>\n",
       "    <tr style=\"text-align: right;\">\n",
       "      <th></th>\n",
       "      <th>Area</th>\n",
       "      <th>Zone</th>\n",
       "      <th>Location ID</th>\n",
       "      <th>Borough</th>\n",
       "    </tr>\n",
       "  </thead>\n",
       "  <tbody>\n",
       "    <tr>\n",
       "      <th>0</th>\n",
       "      <td>0.000782</td>\n",
       "      <td>Newark Airport</td>\n",
       "      <td>1</td>\n",
       "      <td>EWR</td>\n",
       "    </tr>\n",
       "    <tr>\n",
       "      <th>1</th>\n",
       "      <td>0.004866</td>\n",
       "      <td>Jamaica Bay</td>\n",
       "      <td>2</td>\n",
       "      <td>Queens</td>\n",
       "    </tr>\n",
       "    <tr>\n",
       "      <th>2</th>\n",
       "      <td>0.000314</td>\n",
       "      <td>Allerton/Pelham Gardens</td>\n",
       "      <td>3</td>\n",
       "      <td>Bronx</td>\n",
       "    </tr>\n",
       "    <tr>\n",
       "      <th>3</th>\n",
       "      <td>0.000112</td>\n",
       "      <td>Alphabet City</td>\n",
       "      <td>4</td>\n",
       "      <td>Manhattan</td>\n",
       "    </tr>\n",
       "    <tr>\n",
       "      <th>4</th>\n",
       "      <td>0.000498</td>\n",
       "      <td>Arden Heights</td>\n",
       "      <td>5</td>\n",
       "      <td>Staten Island</td>\n",
       "    </tr>\n",
       "  </tbody>\n",
       "</table>\n",
       "</div>"
      ],
      "text/plain": [
       "       Area                     Zone  Location ID        Borough\n",
       "0  0.000782           Newark Airport            1            EWR\n",
       "1  0.004866              Jamaica Bay            2         Queens\n",
       "2  0.000314  Allerton/Pelham Gardens            3          Bronx\n",
       "3  0.000112            Alphabet City            4      Manhattan\n",
       "4  0.000498            Arden Heights            5  Staten Island"
      ]
     },
     "execution_count": 31,
     "metadata": {},
     "output_type": "execute_result"
    }
   ],
   "source": [
    "zone_df.head()"
   ]
  },
  {
   "cell_type": "code",
   "execution_count": 33,
   "metadata": {
    "slideshow": {
     "slide_type": "fragment"
    }
   },
   "outputs": [
    {
     "data": {
      "text/plain": [
       "(260, 4)"
      ]
     },
     "execution_count": 33,
     "metadata": {},
     "output_type": "execute_result"
    }
   ],
   "source": [
    "zone_df.shape"
   ]
  },
  {
   "cell_type": "markdown",
   "metadata": {
    "slideshow": {
     "slide_type": "notes"
    }
   },
   "source": [
    "The zone data is now cleaned. We had to remove a few duplicate entries and some unneeded columns as well as rename them to more friendly names."
   ]
  },
  {
   "cell_type": "markdown",
   "metadata": {
    "slideshow": {
     "slide_type": "slide"
    }
   },
   "source": [
    "# Taxi Data!"
   ]
  },
  {
   "cell_type": "markdown",
   "metadata": {
    "slideshow": {
     "slide_type": "subslide"
    }
   },
   "source": [
    "This set of data is from December 2017 and contains pickup and drop off ID's instead of GPS coordinates."
   ]
  },
  {
   "cell_type": "code",
   "execution_count": 32,
   "metadata": {
    "collapsed": true,
    "slideshow": {
     "slide_type": "fragment"
    }
   },
   "outputs": [],
   "source": [
    "dateparse = lambda x: pd.datetime.strptime(x, '%Y-%m-%d %H:%M:%S')\n",
    "\n",
    "yellow_data = pd.read_csv('TaxiData/yellow_tripdata_2017-12.csv', \\\n",
    "                          parse_dates = ['tpep_pickup_datetime', 'tpep_dropoff_datetime'], date_parser=dateparse)\n",
    "green_data = pd.read_csv('TaxiData/green_tripdata_2017-12.csv', \\\n",
    "                         parse_dates = ['lpep_pickup_datetime', 'lpep_dropoff_datetime'],date_parser=dateparse)\n",
    "\n",
    "\n",
    "yellow_data.dropna(subset=['DOLocationID', 'PULocationID'], inplace=True)\n",
    "green_data.dropna(subset=['DOLocationID', 'PULocationID'], inplace=True)"
   ]
  },
  {
   "cell_type": "code",
   "execution_count": 33,
   "metadata": {
    "collapsed": true,
    "slideshow": {
     "slide_type": "fragment"
    }
   },
   "outputs": [],
   "source": [
    "yellow_data['trip_duration'] = yellow_data['tpep_dropoff_datetime'] - yellow_data['tpep_pickup_datetime']\n",
    "\n",
    "green_data['trip_duration'] = green_data['lpep_dropoff_datetime'] - green_data['lpep_pickup_datetime']\n",
    "\n",
    "yellow_data['trip_duration'] = yellow_data['trip_duration'].dt.seconds/60\n",
    "\n",
    "green_data['trip_duration'] = green_data['trip_duration'].dt.seconds/60\n",
    "\n",
    "yellow_data['trip_dayofmonth'] = yellow_data['tpep_dropoff_datetime'].dt.day\n",
    "green_data['trip_dayofmonth'] = green_data['lpep_dropoff_datetime'].dt.day\n",
    "\n",
    "yellow_data['trip_dayofweek'] = yellow_data['tpep_dropoff_datetime'].dt.dayofweek\n",
    "green_data['trip_dayofweek'] = green_data['lpep_dropoff_datetime'].dt.dayofweek\n",
    "\n",
    "yellow_data['trip_DO_hourofday'] = yellow_data['tpep_dropoff_datetime'].dt.hour\n",
    "green_data['trip_DO_hourofday'] = green_data['lpep_dropoff_datetime'].dt.hour\n",
    "\n",
    "yellow_data['trip_PU_hourofday'] = yellow_data['tpep_pickup_datetime'].dt.hour\n",
    "green_data['trip_PU_hourofday'] = green_data['lpep_pickup_datetime'].dt.hour"
   ]
  },
  {
   "cell_type": "code",
   "execution_count": 34,
   "metadata": {
    "slideshow": {
     "slide_type": "fragment"
    }
   },
   "outputs": [
    {
     "data": {
      "text/html": [
       "<div>\n",
       "<style>\n",
       "    .dataframe thead tr:only-child th {\n",
       "        text-align: right;\n",
       "    }\n",
       "\n",
       "    .dataframe thead th {\n",
       "        text-align: left;\n",
       "    }\n",
       "\n",
       "    .dataframe tbody tr th {\n",
       "        vertical-align: top;\n",
       "    }\n",
       "</style>\n",
       "<table border=\"1\" class=\"dataframe\">\n",
       "  <thead>\n",
       "    <tr style=\"text-align: right;\">\n",
       "      <th></th>\n",
       "      <th>VendorID</th>\n",
       "      <th>tpep_pickup_datetime</th>\n",
       "      <th>tpep_dropoff_datetime</th>\n",
       "      <th>passenger_count</th>\n",
       "      <th>trip_distance</th>\n",
       "      <th>RatecodeID</th>\n",
       "      <th>store_and_fwd_flag</th>\n",
       "      <th>PULocationID</th>\n",
       "      <th>DOLocationID</th>\n",
       "      <th>payment_type</th>\n",
       "      <th>...</th>\n",
       "      <th>mta_tax</th>\n",
       "      <th>tip_amount</th>\n",
       "      <th>tolls_amount</th>\n",
       "      <th>improvement_surcharge</th>\n",
       "      <th>total_amount</th>\n",
       "      <th>trip_duration</th>\n",
       "      <th>trip_dayofmonth</th>\n",
       "      <th>trip_dayofweek</th>\n",
       "      <th>trip_DO_hourofday</th>\n",
       "      <th>trip_PU_hourofday</th>\n",
       "    </tr>\n",
       "  </thead>\n",
       "  <tbody>\n",
       "    <tr>\n",
       "      <th>0</th>\n",
       "      <td>1</td>\n",
       "      <td>2017-12-01 00:12:00</td>\n",
       "      <td>2017-12-01 00:12:51</td>\n",
       "      <td>1</td>\n",
       "      <td>0.0</td>\n",
       "      <td>1</td>\n",
       "      <td>N</td>\n",
       "      <td>226</td>\n",
       "      <td>226</td>\n",
       "      <td>3</td>\n",
       "      <td>...</td>\n",
       "      <td>0.5</td>\n",
       "      <td>0.0</td>\n",
       "      <td>0.0</td>\n",
       "      <td>0.3</td>\n",
       "      <td>3.8</td>\n",
       "      <td>0.850000</td>\n",
       "      <td>1</td>\n",
       "      <td>4</td>\n",
       "      <td>0</td>\n",
       "      <td>0</td>\n",
       "    </tr>\n",
       "    <tr>\n",
       "      <th>1</th>\n",
       "      <td>1</td>\n",
       "      <td>2017-12-01 00:13:37</td>\n",
       "      <td>2017-12-01 00:13:47</td>\n",
       "      <td>1</td>\n",
       "      <td>0.0</td>\n",
       "      <td>1</td>\n",
       "      <td>N</td>\n",
       "      <td>226</td>\n",
       "      <td>226</td>\n",
       "      <td>3</td>\n",
       "      <td>...</td>\n",
       "      <td>0.5</td>\n",
       "      <td>0.0</td>\n",
       "      <td>0.0</td>\n",
       "      <td>0.3</td>\n",
       "      <td>3.8</td>\n",
       "      <td>0.166667</td>\n",
       "      <td>1</td>\n",
       "      <td>4</td>\n",
       "      <td>0</td>\n",
       "      <td>0</td>\n",
       "    </tr>\n",
       "    <tr>\n",
       "      <th>2</th>\n",
       "      <td>1</td>\n",
       "      <td>2017-12-01 00:14:15</td>\n",
       "      <td>2017-12-01 00:15:05</td>\n",
       "      <td>1</td>\n",
       "      <td>0.0</td>\n",
       "      <td>1</td>\n",
       "      <td>N</td>\n",
       "      <td>226</td>\n",
       "      <td>226</td>\n",
       "      <td>3</td>\n",
       "      <td>...</td>\n",
       "      <td>0.5</td>\n",
       "      <td>0.0</td>\n",
       "      <td>0.0</td>\n",
       "      <td>0.3</td>\n",
       "      <td>3.8</td>\n",
       "      <td>0.833333</td>\n",
       "      <td>1</td>\n",
       "      <td>4</td>\n",
       "      <td>0</td>\n",
       "      <td>0</td>\n",
       "    </tr>\n",
       "    <tr>\n",
       "      <th>3</th>\n",
       "      <td>1</td>\n",
       "      <td>2017-12-01 00:15:33</td>\n",
       "      <td>2017-12-01 00:15:37</td>\n",
       "      <td>1</td>\n",
       "      <td>0.0</td>\n",
       "      <td>1</td>\n",
       "      <td>N</td>\n",
       "      <td>226</td>\n",
       "      <td>226</td>\n",
       "      <td>3</td>\n",
       "      <td>...</td>\n",
       "      <td>0.5</td>\n",
       "      <td>0.0</td>\n",
       "      <td>0.0</td>\n",
       "      <td>0.3</td>\n",
       "      <td>3.8</td>\n",
       "      <td>0.066667</td>\n",
       "      <td>1</td>\n",
       "      <td>4</td>\n",
       "      <td>0</td>\n",
       "      <td>0</td>\n",
       "    </tr>\n",
       "    <tr>\n",
       "      <th>4</th>\n",
       "      <td>1</td>\n",
       "      <td>2017-12-01 00:50:03</td>\n",
       "      <td>2017-12-01 00:53:35</td>\n",
       "      <td>1</td>\n",
       "      <td>0.0</td>\n",
       "      <td>1</td>\n",
       "      <td>N</td>\n",
       "      <td>145</td>\n",
       "      <td>145</td>\n",
       "      <td>2</td>\n",
       "      <td>...</td>\n",
       "      <td>0.5</td>\n",
       "      <td>0.0</td>\n",
       "      <td>0.0</td>\n",
       "      <td>0.3</td>\n",
       "      <td>5.3</td>\n",
       "      <td>3.533333</td>\n",
       "      <td>1</td>\n",
       "      <td>4</td>\n",
       "      <td>0</td>\n",
       "      <td>0</td>\n",
       "    </tr>\n",
       "  </tbody>\n",
       "</table>\n",
       "<p>5 rows × 22 columns</p>\n",
       "</div>"
      ],
      "text/plain": [
       "   VendorID tpep_pickup_datetime tpep_dropoff_datetime  passenger_count  \\\n",
       "0         1  2017-12-01 00:12:00   2017-12-01 00:12:51                1   \n",
       "1         1  2017-12-01 00:13:37   2017-12-01 00:13:47                1   \n",
       "2         1  2017-12-01 00:14:15   2017-12-01 00:15:05                1   \n",
       "3         1  2017-12-01 00:15:33   2017-12-01 00:15:37                1   \n",
       "4         1  2017-12-01 00:50:03   2017-12-01 00:53:35                1   \n",
       "\n",
       "   trip_distance  RatecodeID store_and_fwd_flag  PULocationID  DOLocationID  \\\n",
       "0            0.0           1                  N           226           226   \n",
       "1            0.0           1                  N           226           226   \n",
       "2            0.0           1                  N           226           226   \n",
       "3            0.0           1                  N           226           226   \n",
       "4            0.0           1                  N           145           145   \n",
       "\n",
       "   payment_type        ...          mta_tax  tip_amount  tolls_amount  \\\n",
       "0             3        ...              0.5         0.0           0.0   \n",
       "1             3        ...              0.5         0.0           0.0   \n",
       "2             3        ...              0.5         0.0           0.0   \n",
       "3             3        ...              0.5         0.0           0.0   \n",
       "4             2        ...              0.5         0.0           0.0   \n",
       "\n",
       "   improvement_surcharge  total_amount  trip_duration  trip_dayofmonth  \\\n",
       "0                    0.3           3.8       0.850000                1   \n",
       "1                    0.3           3.8       0.166667                1   \n",
       "2                    0.3           3.8       0.833333                1   \n",
       "3                    0.3           3.8       0.066667                1   \n",
       "4                    0.3           5.3       3.533333                1   \n",
       "\n",
       "   trip_dayofweek  trip_DO_hourofday  trip_PU_hourofday  \n",
       "0               4                  0                  0  \n",
       "1               4                  0                  0  \n",
       "2               4                  0                  0  \n",
       "3               4                  0                  0  \n",
       "4               4                  0                  0  \n",
       "\n",
       "[5 rows x 22 columns]"
      ]
     },
     "execution_count": 34,
     "metadata": {},
     "output_type": "execute_result"
    }
   ],
   "source": [
    "yellow_data.head()"
   ]
  },
  {
   "cell_type": "code",
   "execution_count": 35,
   "metadata": {
    "slideshow": {
     "slide_type": "notes"
    }
   },
   "outputs": [
    {
     "data": {
      "text/html": [
       "<div>\n",
       "<style>\n",
       "    .dataframe thead tr:only-child th {\n",
       "        text-align: right;\n",
       "    }\n",
       "\n",
       "    .dataframe thead th {\n",
       "        text-align: left;\n",
       "    }\n",
       "\n",
       "    .dataframe tbody tr th {\n",
       "        vertical-align: top;\n",
       "    }\n",
       "</style>\n",
       "<table border=\"1\" class=\"dataframe\">\n",
       "  <thead>\n",
       "    <tr style=\"text-align: right;\">\n",
       "      <th></th>\n",
       "      <th>VendorID</th>\n",
       "      <th>lpep_pickup_datetime</th>\n",
       "      <th>lpep_dropoff_datetime</th>\n",
       "      <th>store_and_fwd_flag</th>\n",
       "      <th>RatecodeID</th>\n",
       "      <th>PULocationID</th>\n",
       "      <th>DOLocationID</th>\n",
       "      <th>passenger_count</th>\n",
       "      <th>trip_distance</th>\n",
       "      <th>fare_amount</th>\n",
       "      <th>...</th>\n",
       "      <th>ehail_fee</th>\n",
       "      <th>improvement_surcharge</th>\n",
       "      <th>total_amount</th>\n",
       "      <th>payment_type</th>\n",
       "      <th>trip_type</th>\n",
       "      <th>trip_duration</th>\n",
       "      <th>trip_dayofmonth</th>\n",
       "      <th>trip_dayofweek</th>\n",
       "      <th>trip_DO_hourofday</th>\n",
       "      <th>trip_PU_hourofday</th>\n",
       "    </tr>\n",
       "  </thead>\n",
       "  <tbody>\n",
       "    <tr>\n",
       "      <th>0</th>\n",
       "      <td>1</td>\n",
       "      <td>2017-12-01 00:33:14</td>\n",
       "      <td>2017-12-01 00:40:22</td>\n",
       "      <td>N</td>\n",
       "      <td>1</td>\n",
       "      <td>42</td>\n",
       "      <td>24</td>\n",
       "      <td>1</td>\n",
       "      <td>1.40</td>\n",
       "      <td>7.5</td>\n",
       "      <td>...</td>\n",
       "      <td>NaN</td>\n",
       "      <td>0.3</td>\n",
       "      <td>8.80</td>\n",
       "      <td>2</td>\n",
       "      <td>1.0</td>\n",
       "      <td>7.133333</td>\n",
       "      <td>1</td>\n",
       "      <td>4</td>\n",
       "      <td>0</td>\n",
       "      <td>0</td>\n",
       "    </tr>\n",
       "    <tr>\n",
       "      <th>1</th>\n",
       "      <td>2</td>\n",
       "      <td>2017-12-01 00:16:06</td>\n",
       "      <td>2017-12-01 00:23:11</td>\n",
       "      <td>N</td>\n",
       "      <td>1</td>\n",
       "      <td>49</td>\n",
       "      <td>25</td>\n",
       "      <td>5</td>\n",
       "      <td>1.60</td>\n",
       "      <td>7.5</td>\n",
       "      <td>...</td>\n",
       "      <td>NaN</td>\n",
       "      <td>0.3</td>\n",
       "      <td>11.44</td>\n",
       "      <td>1</td>\n",
       "      <td>1.0</td>\n",
       "      <td>7.083333</td>\n",
       "      <td>1</td>\n",
       "      <td>4</td>\n",
       "      <td>0</td>\n",
       "      <td>0</td>\n",
       "    </tr>\n",
       "    <tr>\n",
       "      <th>2</th>\n",
       "      <td>2</td>\n",
       "      <td>2017-12-01 00:24:05</td>\n",
       "      <td>2017-12-01 00:32:24</td>\n",
       "      <td>N</td>\n",
       "      <td>1</td>\n",
       "      <td>25</td>\n",
       "      <td>49</td>\n",
       "      <td>5</td>\n",
       "      <td>1.91</td>\n",
       "      <td>8.5</td>\n",
       "      <td>...</td>\n",
       "      <td>NaN</td>\n",
       "      <td>0.3</td>\n",
       "      <td>11.80</td>\n",
       "      <td>1</td>\n",
       "      <td>1.0</td>\n",
       "      <td>8.316667</td>\n",
       "      <td>1</td>\n",
       "      <td>4</td>\n",
       "      <td>0</td>\n",
       "      <td>0</td>\n",
       "    </tr>\n",
       "    <tr>\n",
       "      <th>3</th>\n",
       "      <td>2</td>\n",
       "      <td>2017-12-01 00:47:42</td>\n",
       "      <td>2017-12-01 01:02:11</td>\n",
       "      <td>N</td>\n",
       "      <td>1</td>\n",
       "      <td>256</td>\n",
       "      <td>198</td>\n",
       "      <td>5</td>\n",
       "      <td>3.54</td>\n",
       "      <td>13.5</td>\n",
       "      <td>...</td>\n",
       "      <td>NaN</td>\n",
       "      <td>0.3</td>\n",
       "      <td>14.80</td>\n",
       "      <td>2</td>\n",
       "      <td>1.0</td>\n",
       "      <td>14.483333</td>\n",
       "      <td>1</td>\n",
       "      <td>4</td>\n",
       "      <td>1</td>\n",
       "      <td>0</td>\n",
       "    </tr>\n",
       "    <tr>\n",
       "      <th>4</th>\n",
       "      <td>2</td>\n",
       "      <td>2017-12-01 00:21:33</td>\n",
       "      <td>2017-12-01 00:41:14</td>\n",
       "      <td>N</td>\n",
       "      <td>1</td>\n",
       "      <td>244</td>\n",
       "      <td>140</td>\n",
       "      <td>2</td>\n",
       "      <td>7.79</td>\n",
       "      <td>24.0</td>\n",
       "      <td>...</td>\n",
       "      <td>NaN</td>\n",
       "      <td>0.3</td>\n",
       "      <td>30.36</td>\n",
       "      <td>1</td>\n",
       "      <td>1.0</td>\n",
       "      <td>19.683333</td>\n",
       "      <td>1</td>\n",
       "      <td>4</td>\n",
       "      <td>0</td>\n",
       "      <td>0</td>\n",
       "    </tr>\n",
       "  </tbody>\n",
       "</table>\n",
       "<p>5 rows × 24 columns</p>\n",
       "</div>"
      ],
      "text/plain": [
       "   VendorID lpep_pickup_datetime lpep_dropoff_datetime store_and_fwd_flag  \\\n",
       "0         1  2017-12-01 00:33:14   2017-12-01 00:40:22                  N   \n",
       "1         2  2017-12-01 00:16:06   2017-12-01 00:23:11                  N   \n",
       "2         2  2017-12-01 00:24:05   2017-12-01 00:32:24                  N   \n",
       "3         2  2017-12-01 00:47:42   2017-12-01 01:02:11                  N   \n",
       "4         2  2017-12-01 00:21:33   2017-12-01 00:41:14                  N   \n",
       "\n",
       "   RatecodeID  PULocationID  DOLocationID  passenger_count  trip_distance  \\\n",
       "0           1            42            24                1           1.40   \n",
       "1           1            49            25                5           1.60   \n",
       "2           1            25            49                5           1.91   \n",
       "3           1           256           198                5           3.54   \n",
       "4           1           244           140                2           7.79   \n",
       "\n",
       "   fare_amount        ...          ehail_fee  improvement_surcharge  \\\n",
       "0          7.5        ...                NaN                    0.3   \n",
       "1          7.5        ...                NaN                    0.3   \n",
       "2          8.5        ...                NaN                    0.3   \n",
       "3         13.5        ...                NaN                    0.3   \n",
       "4         24.0        ...                NaN                    0.3   \n",
       "\n",
       "   total_amount  payment_type  trip_type  trip_duration  trip_dayofmonth  \\\n",
       "0          8.80             2        1.0       7.133333                1   \n",
       "1         11.44             1        1.0       7.083333                1   \n",
       "2         11.80             1        1.0       8.316667                1   \n",
       "3         14.80             2        1.0      14.483333                1   \n",
       "4         30.36             1        1.0      19.683333                1   \n",
       "\n",
       "   trip_dayofweek  trip_DO_hourofday  trip_PU_hourofday  \n",
       "0               4                  0                  0  \n",
       "1               4                  0                  0  \n",
       "2               4                  0                  0  \n",
       "3               4                  1                  0  \n",
       "4               4                  0                  0  \n",
       "\n",
       "[5 rows x 24 columns]"
      ]
     },
     "execution_count": 35,
     "metadata": {},
     "output_type": "execute_result"
    }
   ],
   "source": [
    "green_data.head()"
   ]
  },
  {
   "cell_type": "code",
   "execution_count": 36,
   "metadata": {
    "slideshow": {
     "slide_type": "fragment"
    }
   },
   "outputs": [
    {
     "data": {
      "text/html": [
       "<div>\n",
       "<style>\n",
       "    .dataframe thead tr:only-child th {\n",
       "        text-align: right;\n",
       "    }\n",
       "\n",
       "    .dataframe thead th {\n",
       "        text-align: left;\n",
       "    }\n",
       "\n",
       "    .dataframe tbody tr th {\n",
       "        vertical-align: top;\n",
       "    }\n",
       "</style>\n",
       "<table border=\"1\" class=\"dataframe\">\n",
       "  <thead>\n",
       "    <tr style=\"text-align: right;\">\n",
       "      <th></th>\n",
       "      <th>VendorID</th>\n",
       "      <th>passenger_count</th>\n",
       "      <th>trip_distance</th>\n",
       "      <th>RatecodeID</th>\n",
       "      <th>PULocationID</th>\n",
       "      <th>DOLocationID</th>\n",
       "      <th>payment_type</th>\n",
       "      <th>fare_amount</th>\n",
       "      <th>extra</th>\n",
       "      <th>mta_tax</th>\n",
       "      <th>tip_amount</th>\n",
       "      <th>tolls_amount</th>\n",
       "      <th>improvement_surcharge</th>\n",
       "      <th>total_amount</th>\n",
       "      <th>trip_duration</th>\n",
       "      <th>trip_dayofmonth</th>\n",
       "      <th>trip_dayofweek</th>\n",
       "      <th>trip_DO_hourofday</th>\n",
       "      <th>trip_PU_hourofday</th>\n",
       "    </tr>\n",
       "  </thead>\n",
       "  <tbody>\n",
       "    <tr>\n",
       "      <th>count</th>\n",
       "      <td>9.508276e+06</td>\n",
       "      <td>9.508276e+06</td>\n",
       "      <td>9.508276e+06</td>\n",
       "      <td>9.508276e+06</td>\n",
       "      <td>9.508276e+06</td>\n",
       "      <td>9.508276e+06</td>\n",
       "      <td>9.508276e+06</td>\n",
       "      <td>9.508276e+06</td>\n",
       "      <td>9.508276e+06</td>\n",
       "      <td>9.508276e+06</td>\n",
       "      <td>9.508276e+06</td>\n",
       "      <td>9.508276e+06</td>\n",
       "      <td>9.508276e+06</td>\n",
       "      <td>9.508276e+06</td>\n",
       "      <td>9.508276e+06</td>\n",
       "      <td>9.508276e+06</td>\n",
       "      <td>9.508276e+06</td>\n",
       "      <td>9.508276e+06</td>\n",
       "      <td>9.508276e+06</td>\n",
       "    </tr>\n",
       "    <tr>\n",
       "      <th>mean</th>\n",
       "      <td>1.552153e+00</td>\n",
       "      <td>1.632386e+00</td>\n",
       "      <td>2.841248e+00</td>\n",
       "      <td>1.040817e+00</td>\n",
       "      <td>1.639006e+02</td>\n",
       "      <td>1.618380e+02</td>\n",
       "      <td>1.345665e+00</td>\n",
       "      <td>1.293521e+01</td>\n",
       "      <td>3.221178e-01</td>\n",
       "      <td>4.972710e-01</td>\n",
       "      <td>1.813980e+00</td>\n",
       "      <td>3.149101e-01</td>\n",
       "      <td>2.996154e-01</td>\n",
       "      <td>1.618621e+01</td>\n",
       "      <td>1.741730e+01</td>\n",
       "      <td>1.499809e+01</td>\n",
       "      <td>3.218610e+00</td>\n",
       "      <td>1.373943e+01</td>\n",
       "      <td>1.373333e+01</td>\n",
       "    </tr>\n",
       "    <tr>\n",
       "      <th>std</th>\n",
       "      <td>4.972727e-01</td>\n",
       "      <td>1.264036e+00</td>\n",
       "      <td>3.665802e+00</td>\n",
       "      <td>4.193037e-01</td>\n",
       "      <td>6.687440e+01</td>\n",
       "      <td>7.062320e+01</td>\n",
       "      <td>4.963531e-01</td>\n",
       "      <td>1.276011e+02</td>\n",
       "      <td>4.489527e-01</td>\n",
       "      <td>5.557419e-02</td>\n",
       "      <td>2.599233e+00</td>\n",
       "      <td>1.847027e+00</td>\n",
       "      <td>1.455794e-02</td>\n",
       "      <td>1.278660e+02</td>\n",
       "      <td>6.433474e+01</td>\n",
       "      <td>8.672834e+00</td>\n",
       "      <td>1.936288e+00</td>\n",
       "      <td>6.329262e+00</td>\n",
       "      <td>6.231663e+00</td>\n",
       "    </tr>\n",
       "    <tr>\n",
       "      <th>min</th>\n",
       "      <td>1.000000e+00</td>\n",
       "      <td>0.000000e+00</td>\n",
       "      <td>0.000000e+00</td>\n",
       "      <td>1.000000e+00</td>\n",
       "      <td>1.000000e+00</td>\n",
       "      <td>1.000000e+00</td>\n",
       "      <td>1.000000e+00</td>\n",
       "      <td>-3.400000e+02</td>\n",
       "      <td>-1.000000e+01</td>\n",
       "      <td>-5.000000e-01</td>\n",
       "      <td>-2.180000e+02</td>\n",
       "      <td>-1.900000e+01</td>\n",
       "      <td>-3.000000e-01</td>\n",
       "      <td>-3.403000e+02</td>\n",
       "      <td>0.000000e+00</td>\n",
       "      <td>1.000000e+00</td>\n",
       "      <td>0.000000e+00</td>\n",
       "      <td>0.000000e+00</td>\n",
       "      <td>0.000000e+00</td>\n",
       "    </tr>\n",
       "    <tr>\n",
       "      <th>25%</th>\n",
       "      <td>1.000000e+00</td>\n",
       "      <td>1.000000e+00</td>\n",
       "      <td>9.300000e-01</td>\n",
       "      <td>1.000000e+00</td>\n",
       "      <td>1.140000e+02</td>\n",
       "      <td>1.120000e+02</td>\n",
       "      <td>1.000000e+00</td>\n",
       "      <td>6.500000e+00</td>\n",
       "      <td>0.000000e+00</td>\n",
       "      <td>5.000000e-01</td>\n",
       "      <td>0.000000e+00</td>\n",
       "      <td>0.000000e+00</td>\n",
       "      <td>3.000000e-01</td>\n",
       "      <td>8.300000e+00</td>\n",
       "      <td>6.600000e+00</td>\n",
       "      <td>8.000000e+00</td>\n",
       "      <td>2.000000e+00</td>\n",
       "      <td>1.000000e+01</td>\n",
       "      <td>1.000000e+01</td>\n",
       "    </tr>\n",
       "    <tr>\n",
       "      <th>50%</th>\n",
       "      <td>2.000000e+00</td>\n",
       "      <td>1.000000e+00</td>\n",
       "      <td>1.600000e+00</td>\n",
       "      <td>1.000000e+00</td>\n",
       "      <td>1.620000e+02</td>\n",
       "      <td>1.620000e+02</td>\n",
       "      <td>1.000000e+00</td>\n",
       "      <td>9.500000e+00</td>\n",
       "      <td>0.000000e+00</td>\n",
       "      <td>5.000000e-01</td>\n",
       "      <td>1.320000e+00</td>\n",
       "      <td>0.000000e+00</td>\n",
       "      <td>3.000000e-01</td>\n",
       "      <td>1.180000e+01</td>\n",
       "      <td>1.130000e+01</td>\n",
       "      <td>1.500000e+01</td>\n",
       "      <td>3.000000e+00</td>\n",
       "      <td>1.400000e+01</td>\n",
       "      <td>1.400000e+01</td>\n",
       "    </tr>\n",
       "    <tr>\n",
       "      <th>75%</th>\n",
       "      <td>2.000000e+00</td>\n",
       "      <td>2.000000e+00</td>\n",
       "      <td>2.950000e+00</td>\n",
       "      <td>1.000000e+00</td>\n",
       "      <td>2.340000e+02</td>\n",
       "      <td>2.340000e+02</td>\n",
       "      <td>2.000000e+00</td>\n",
       "      <td>1.450000e+01</td>\n",
       "      <td>5.000000e-01</td>\n",
       "      <td>5.000000e-01</td>\n",
       "      <td>2.450000e+00</td>\n",
       "      <td>0.000000e+00</td>\n",
       "      <td>3.000000e-01</td>\n",
       "      <td>1.780000e+01</td>\n",
       "      <td>1.880000e+01</td>\n",
       "      <td>2.200000e+01</td>\n",
       "      <td>5.000000e+00</td>\n",
       "      <td>1.900000e+01</td>\n",
       "      <td>1.900000e+01</td>\n",
       "    </tr>\n",
       "    <tr>\n",
       "      <th>max</th>\n",
       "      <td>2.000000e+00</td>\n",
       "      <td>9.000000e+00</td>\n",
       "      <td>6.872200e+02</td>\n",
       "      <td>9.900000e+01</td>\n",
       "      <td>2.650000e+02</td>\n",
       "      <td>2.650000e+02</td>\n",
       "      <td>4.000000e+00</td>\n",
       "      <td>3.919118e+05</td>\n",
       "      <td>6.980000e+01</td>\n",
       "      <td>1.178500e+02</td>\n",
       "      <td>4.960000e+02</td>\n",
       "      <td>9.758900e+02</td>\n",
       "      <td>1.000000e+00</td>\n",
       "      <td>3.919136e+05</td>\n",
       "      <td>1.439983e+03</td>\n",
       "      <td>3.100000e+01</td>\n",
       "      <td>6.000000e+00</td>\n",
       "      <td>2.300000e+01</td>\n",
       "      <td>2.300000e+01</td>\n",
       "    </tr>\n",
       "  </tbody>\n",
       "</table>\n",
       "</div>"
      ],
      "text/plain": [
       "           VendorID  passenger_count  trip_distance    RatecodeID  \\\n",
       "count  9.508276e+06     9.508276e+06   9.508276e+06  9.508276e+06   \n",
       "mean   1.552153e+00     1.632386e+00   2.841248e+00  1.040817e+00   \n",
       "std    4.972727e-01     1.264036e+00   3.665802e+00  4.193037e-01   \n",
       "min    1.000000e+00     0.000000e+00   0.000000e+00  1.000000e+00   \n",
       "25%    1.000000e+00     1.000000e+00   9.300000e-01  1.000000e+00   \n",
       "50%    2.000000e+00     1.000000e+00   1.600000e+00  1.000000e+00   \n",
       "75%    2.000000e+00     2.000000e+00   2.950000e+00  1.000000e+00   \n",
       "max    2.000000e+00     9.000000e+00   6.872200e+02  9.900000e+01   \n",
       "\n",
       "       PULocationID  DOLocationID  payment_type   fare_amount         extra  \\\n",
       "count  9.508276e+06  9.508276e+06  9.508276e+06  9.508276e+06  9.508276e+06   \n",
       "mean   1.639006e+02  1.618380e+02  1.345665e+00  1.293521e+01  3.221178e-01   \n",
       "std    6.687440e+01  7.062320e+01  4.963531e-01  1.276011e+02  4.489527e-01   \n",
       "min    1.000000e+00  1.000000e+00  1.000000e+00 -3.400000e+02 -1.000000e+01   \n",
       "25%    1.140000e+02  1.120000e+02  1.000000e+00  6.500000e+00  0.000000e+00   \n",
       "50%    1.620000e+02  1.620000e+02  1.000000e+00  9.500000e+00  0.000000e+00   \n",
       "75%    2.340000e+02  2.340000e+02  2.000000e+00  1.450000e+01  5.000000e-01   \n",
       "max    2.650000e+02  2.650000e+02  4.000000e+00  3.919118e+05  6.980000e+01   \n",
       "\n",
       "            mta_tax    tip_amount  tolls_amount  improvement_surcharge  \\\n",
       "count  9.508276e+06  9.508276e+06  9.508276e+06           9.508276e+06   \n",
       "mean   4.972710e-01  1.813980e+00  3.149101e-01           2.996154e-01   \n",
       "std    5.557419e-02  2.599233e+00  1.847027e+00           1.455794e-02   \n",
       "min   -5.000000e-01 -2.180000e+02 -1.900000e+01          -3.000000e-01   \n",
       "25%    5.000000e-01  0.000000e+00  0.000000e+00           3.000000e-01   \n",
       "50%    5.000000e-01  1.320000e+00  0.000000e+00           3.000000e-01   \n",
       "75%    5.000000e-01  2.450000e+00  0.000000e+00           3.000000e-01   \n",
       "max    1.178500e+02  4.960000e+02  9.758900e+02           1.000000e+00   \n",
       "\n",
       "       total_amount  trip_duration  trip_dayofmonth  trip_dayofweek  \\\n",
       "count  9.508276e+06   9.508276e+06     9.508276e+06    9.508276e+06   \n",
       "mean   1.618621e+01   1.741730e+01     1.499809e+01    3.218610e+00   \n",
       "std    1.278660e+02   6.433474e+01     8.672834e+00    1.936288e+00   \n",
       "min   -3.403000e+02   0.000000e+00     1.000000e+00    0.000000e+00   \n",
       "25%    8.300000e+00   6.600000e+00     8.000000e+00    2.000000e+00   \n",
       "50%    1.180000e+01   1.130000e+01     1.500000e+01    3.000000e+00   \n",
       "75%    1.780000e+01   1.880000e+01     2.200000e+01    5.000000e+00   \n",
       "max    3.919136e+05   1.439983e+03     3.100000e+01    6.000000e+00   \n",
       "\n",
       "       trip_DO_hourofday  trip_PU_hourofday  \n",
       "count       9.508276e+06       9.508276e+06  \n",
       "mean        1.373943e+01       1.373333e+01  \n",
       "std         6.329262e+00       6.231663e+00  \n",
       "min         0.000000e+00       0.000000e+00  \n",
       "25%         1.000000e+01       1.000000e+01  \n",
       "50%         1.400000e+01       1.400000e+01  \n",
       "75%         1.900000e+01       1.900000e+01  \n",
       "max         2.300000e+01       2.300000e+01  "
      ]
     },
     "execution_count": 36,
     "metadata": {},
     "output_type": "execute_result"
    }
   ],
   "source": [
    "yellow_data.describe()"
   ]
  },
  {
   "cell_type": "code",
   "execution_count": 37,
   "metadata": {
    "slideshow": {
     "slide_type": "notes"
    }
   },
   "outputs": [
    {
     "data": {
      "text/html": [
       "<div>\n",
       "<style>\n",
       "    .dataframe thead tr:only-child th {\n",
       "        text-align: right;\n",
       "    }\n",
       "\n",
       "    .dataframe thead th {\n",
       "        text-align: left;\n",
       "    }\n",
       "\n",
       "    .dataframe tbody tr th {\n",
       "        vertical-align: top;\n",
       "    }\n",
       "</style>\n",
       "<table border=\"1\" class=\"dataframe\">\n",
       "  <thead>\n",
       "    <tr style=\"text-align: right;\">\n",
       "      <th></th>\n",
       "      <th>VendorID</th>\n",
       "      <th>RatecodeID</th>\n",
       "      <th>PULocationID</th>\n",
       "      <th>DOLocationID</th>\n",
       "      <th>passenger_count</th>\n",
       "      <th>trip_distance</th>\n",
       "      <th>fare_amount</th>\n",
       "      <th>extra</th>\n",
       "      <th>mta_tax</th>\n",
       "      <th>tip_amount</th>\n",
       "      <th>...</th>\n",
       "      <th>ehail_fee</th>\n",
       "      <th>improvement_surcharge</th>\n",
       "      <th>total_amount</th>\n",
       "      <th>payment_type</th>\n",
       "      <th>trip_type</th>\n",
       "      <th>trip_duration</th>\n",
       "      <th>trip_dayofmonth</th>\n",
       "      <th>trip_dayofweek</th>\n",
       "      <th>trip_DO_hourofday</th>\n",
       "      <th>trip_PU_hourofday</th>\n",
       "    </tr>\n",
       "  </thead>\n",
       "  <tbody>\n",
       "    <tr>\n",
       "      <th>count</th>\n",
       "      <td>906240.000000</td>\n",
       "      <td>906240.000000</td>\n",
       "      <td>906240.000000</td>\n",
       "      <td>906240.000000</td>\n",
       "      <td>906240.000000</td>\n",
       "      <td>906240.000000</td>\n",
       "      <td>906240.000000</td>\n",
       "      <td>906240.000000</td>\n",
       "      <td>906240.000000</td>\n",
       "      <td>906240.000000</td>\n",
       "      <td>...</td>\n",
       "      <td>0.0</td>\n",
       "      <td>906240.000000</td>\n",
       "      <td>906240.000000</td>\n",
       "      <td>906240.000000</td>\n",
       "      <td>906239.000000</td>\n",
       "      <td>906240.000000</td>\n",
       "      <td>906240.000000</td>\n",
       "      <td>906240.000000</td>\n",
       "      <td>906240.000000</td>\n",
       "      <td>906240.000000</td>\n",
       "    </tr>\n",
       "    <tr>\n",
       "      <th>mean</th>\n",
       "      <td>1.825838</td>\n",
       "      <td>1.071538</td>\n",
       "      <td>110.812352</td>\n",
       "      <td>128.507389</td>\n",
       "      <td>1.368185</td>\n",
       "      <td>2.677710</td>\n",
       "      <td>11.874872</td>\n",
       "      <td>0.340943</td>\n",
       "      <td>0.488398</td>\n",
       "      <td>1.049092</td>\n",
       "      <td>...</td>\n",
       "      <td>NaN</td>\n",
       "      <td>0.293318</td>\n",
       "      <td>14.172645</td>\n",
       "      <td>1.494520</td>\n",
       "      <td>1.017056</td>\n",
       "      <td>21.072679</td>\n",
       "      <td>15.407871</td>\n",
       "      <td>3.328473</td>\n",
       "      <td>13.979841</td>\n",
       "      <td>13.964410</td>\n",
       "    </tr>\n",
       "    <tr>\n",
       "      <th>std</th>\n",
       "      <td>0.379249</td>\n",
       "      <td>0.529394</td>\n",
       "      <td>74.923133</td>\n",
       "      <td>76.960416</td>\n",
       "      <td>1.050139</td>\n",
       "      <td>2.868094</td>\n",
       "      <td>9.898816</td>\n",
       "      <td>0.389945</td>\n",
       "      <td>0.082981</td>\n",
       "      <td>1.927127</td>\n",
       "      <td>...</td>\n",
       "      <td>NaN</td>\n",
       "      <td>0.049000</td>\n",
       "      <td>10.983033</td>\n",
       "      <td>0.522221</td>\n",
       "      <td>0.129481</td>\n",
       "      <td>103.678375</td>\n",
       "      <td>8.858151</td>\n",
       "      <td>1.938720</td>\n",
       "      <td>6.348936</td>\n",
       "      <td>6.261508</td>\n",
       "    </tr>\n",
       "    <tr>\n",
       "      <th>min</th>\n",
       "      <td>1.000000</td>\n",
       "      <td>1.000000</td>\n",
       "      <td>1.000000</td>\n",
       "      <td>1.000000</td>\n",
       "      <td>0.000000</td>\n",
       "      <td>0.000000</td>\n",
       "      <td>-140.000000</td>\n",
       "      <td>-4.500000</td>\n",
       "      <td>-0.500000</td>\n",
       "      <td>-88.800000</td>\n",
       "      <td>...</td>\n",
       "      <td>NaN</td>\n",
       "      <td>-0.300000</td>\n",
       "      <td>-140.000000</td>\n",
       "      <td>1.000000</td>\n",
       "      <td>1.000000</td>\n",
       "      <td>0.000000</td>\n",
       "      <td>1.000000</td>\n",
       "      <td>0.000000</td>\n",
       "      <td>0.000000</td>\n",
       "      <td>0.000000</td>\n",
       "    </tr>\n",
       "    <tr>\n",
       "      <th>25%</th>\n",
       "      <td>2.000000</td>\n",
       "      <td>1.000000</td>\n",
       "      <td>49.000000</td>\n",
       "      <td>61.000000</td>\n",
       "      <td>1.000000</td>\n",
       "      <td>1.000000</td>\n",
       "      <td>6.000000</td>\n",
       "      <td>0.000000</td>\n",
       "      <td>0.500000</td>\n",
       "      <td>0.000000</td>\n",
       "      <td>...</td>\n",
       "      <td>NaN</td>\n",
       "      <td>0.300000</td>\n",
       "      <td>7.800000</td>\n",
       "      <td>1.000000</td>\n",
       "      <td>1.000000</td>\n",
       "      <td>5.966667</td>\n",
       "      <td>8.000000</td>\n",
       "      <td>2.000000</td>\n",
       "      <td>10.000000</td>\n",
       "      <td>10.000000</td>\n",
       "    </tr>\n",
       "    <tr>\n",
       "      <th>50%</th>\n",
       "      <td>2.000000</td>\n",
       "      <td>1.000000</td>\n",
       "      <td>82.000000</td>\n",
       "      <td>129.000000</td>\n",
       "      <td>1.000000</td>\n",
       "      <td>1.710000</td>\n",
       "      <td>9.000000</td>\n",
       "      <td>0.500000</td>\n",
       "      <td>0.500000</td>\n",
       "      <td>0.000000</td>\n",
       "      <td>...</td>\n",
       "      <td>NaN</td>\n",
       "      <td>0.300000</td>\n",
       "      <td>10.800000</td>\n",
       "      <td>1.000000</td>\n",
       "      <td>1.000000</td>\n",
       "      <td>10.066667</td>\n",
       "      <td>15.000000</td>\n",
       "      <td>4.000000</td>\n",
       "      <td>15.000000</td>\n",
       "      <td>15.000000</td>\n",
       "    </tr>\n",
       "    <tr>\n",
       "      <th>75%</th>\n",
       "      <td>2.000000</td>\n",
       "      <td>1.000000</td>\n",
       "      <td>166.000000</td>\n",
       "      <td>191.000000</td>\n",
       "      <td>1.000000</td>\n",
       "      <td>3.280000</td>\n",
       "      <td>14.500000</td>\n",
       "      <td>0.500000</td>\n",
       "      <td>0.500000</td>\n",
       "      <td>1.760000</td>\n",
       "      <td>...</td>\n",
       "      <td>NaN</td>\n",
       "      <td>0.300000</td>\n",
       "      <td>16.800000</td>\n",
       "      <td>2.000000</td>\n",
       "      <td>1.000000</td>\n",
       "      <td>16.783333</td>\n",
       "      <td>22.000000</td>\n",
       "      <td>5.000000</td>\n",
       "      <td>19.000000</td>\n",
       "      <td>19.000000</td>\n",
       "    </tr>\n",
       "    <tr>\n",
       "      <th>max</th>\n",
       "      <td>2.000000</td>\n",
       "      <td>99.000000</td>\n",
       "      <td>265.000000</td>\n",
       "      <td>265.000000</td>\n",
       "      <td>9.000000</td>\n",
       "      <td>108.730000</td>\n",
       "      <td>2134.000000</td>\n",
       "      <td>4.500000</td>\n",
       "      <td>0.500000</td>\n",
       "      <td>200.080000</td>\n",
       "      <td>...</td>\n",
       "      <td>NaN</td>\n",
       "      <td>0.300000</td>\n",
       "      <td>2134.800000</td>\n",
       "      <td>5.000000</td>\n",
       "      <td>2.000000</td>\n",
       "      <td>1439.866667</td>\n",
       "      <td>31.000000</td>\n",
       "      <td>6.000000</td>\n",
       "      <td>23.000000</td>\n",
       "      <td>23.000000</td>\n",
       "    </tr>\n",
       "  </tbody>\n",
       "</table>\n",
       "<p>8 rows × 21 columns</p>\n",
       "</div>"
      ],
      "text/plain": [
       "            VendorID     RatecodeID   PULocationID   DOLocationID  \\\n",
       "count  906240.000000  906240.000000  906240.000000  906240.000000   \n",
       "mean        1.825838       1.071538     110.812352     128.507389   \n",
       "std         0.379249       0.529394      74.923133      76.960416   \n",
       "min         1.000000       1.000000       1.000000       1.000000   \n",
       "25%         2.000000       1.000000      49.000000      61.000000   \n",
       "50%         2.000000       1.000000      82.000000     129.000000   \n",
       "75%         2.000000       1.000000     166.000000     191.000000   \n",
       "max         2.000000      99.000000     265.000000     265.000000   \n",
       "\n",
       "       passenger_count  trip_distance    fare_amount          extra  \\\n",
       "count    906240.000000  906240.000000  906240.000000  906240.000000   \n",
       "mean          1.368185       2.677710      11.874872       0.340943   \n",
       "std           1.050139       2.868094       9.898816       0.389945   \n",
       "min           0.000000       0.000000    -140.000000      -4.500000   \n",
       "25%           1.000000       1.000000       6.000000       0.000000   \n",
       "50%           1.000000       1.710000       9.000000       0.500000   \n",
       "75%           1.000000       3.280000      14.500000       0.500000   \n",
       "max           9.000000     108.730000    2134.000000       4.500000   \n",
       "\n",
       "             mta_tax     tip_amount        ...          ehail_fee  \\\n",
       "count  906240.000000  906240.000000        ...                0.0   \n",
       "mean        0.488398       1.049092        ...                NaN   \n",
       "std         0.082981       1.927127        ...                NaN   \n",
       "min        -0.500000     -88.800000        ...                NaN   \n",
       "25%         0.500000       0.000000        ...                NaN   \n",
       "50%         0.500000       0.000000        ...                NaN   \n",
       "75%         0.500000       1.760000        ...                NaN   \n",
       "max         0.500000     200.080000        ...                NaN   \n",
       "\n",
       "       improvement_surcharge   total_amount   payment_type      trip_type  \\\n",
       "count          906240.000000  906240.000000  906240.000000  906239.000000   \n",
       "mean                0.293318      14.172645       1.494520       1.017056   \n",
       "std                 0.049000      10.983033       0.522221       0.129481   \n",
       "min                -0.300000    -140.000000       1.000000       1.000000   \n",
       "25%                 0.300000       7.800000       1.000000       1.000000   \n",
       "50%                 0.300000      10.800000       1.000000       1.000000   \n",
       "75%                 0.300000      16.800000       2.000000       1.000000   \n",
       "max                 0.300000    2134.800000       5.000000       2.000000   \n",
       "\n",
       "       trip_duration  trip_dayofmonth  trip_dayofweek  trip_DO_hourofday  \\\n",
       "count  906240.000000    906240.000000   906240.000000      906240.000000   \n",
       "mean       21.072679        15.407871        3.328473          13.979841   \n",
       "std       103.678375         8.858151        1.938720           6.348936   \n",
       "min         0.000000         1.000000        0.000000           0.000000   \n",
       "25%         5.966667         8.000000        2.000000          10.000000   \n",
       "50%        10.066667        15.000000        4.000000          15.000000   \n",
       "75%        16.783333        22.000000        5.000000          19.000000   \n",
       "max      1439.866667        31.000000        6.000000          23.000000   \n",
       "\n",
       "       trip_PU_hourofday  \n",
       "count      906240.000000  \n",
       "mean           13.964410  \n",
       "std             6.261508  \n",
       "min             0.000000  \n",
       "25%            10.000000  \n",
       "50%            15.000000  \n",
       "75%            19.000000  \n",
       "max            23.000000  \n",
       "\n",
       "[8 rows x 21 columns]"
      ]
     },
     "execution_count": 37,
     "metadata": {},
     "output_type": "execute_result"
    }
   ],
   "source": [
    "green_data.describe()"
   ]
  },
  {
   "cell_type": "markdown",
   "metadata": {
    "collapsed": true,
    "slideshow": {
     "slide_type": "notes"
    }
   },
   "source": [
    "It seems like some folks paid over \\$2000 for a green taxi ride and \\$300000 for a yellow taxi ride! "
   ]
  },
  {
   "cell_type": "code",
   "execution_count": 38,
   "metadata": {
    "collapsed": true,
    "slideshow": {
     "slide_type": "subslide"
    }
   },
   "outputs": [],
   "source": [
    "yellow_data = yellow_data[(yellow_data['fare_amount'] >= 0) & (yellow_data['fare_amount'] <= 100) & \\\n",
    "                          (yellow_data['trip_distance'] >= 0) & (yellow_data['trip_distance'] <= 40)]\n",
    "green_data = green_data[(green_data['fare_amount'] >= 0) & (green_data['fare_amount'] <= 100) & \\\n",
    "                        (green_data['trip_distance'] >= 0) & (green_data['trip_distance'] <= 40)]\n"
   ]
  },
  {
   "cell_type": "code",
   "execution_count": 39,
   "metadata": {
    "slideshow": {
     "slide_type": "fragment"
    }
   },
   "outputs": [
    {
     "data": {
      "text/html": [
       "<div>\n",
       "<style>\n",
       "    .dataframe thead tr:only-child th {\n",
       "        text-align: right;\n",
       "    }\n",
       "\n",
       "    .dataframe thead th {\n",
       "        text-align: left;\n",
       "    }\n",
       "\n",
       "    .dataframe tbody tr th {\n",
       "        vertical-align: top;\n",
       "    }\n",
       "</style>\n",
       "<table border=\"1\" class=\"dataframe\">\n",
       "  <thead>\n",
       "    <tr style=\"text-align: right;\">\n",
       "      <th></th>\n",
       "      <th>VendorID</th>\n",
       "      <th>passenger_count</th>\n",
       "      <th>trip_distance</th>\n",
       "      <th>RatecodeID</th>\n",
       "      <th>PULocationID</th>\n",
       "      <th>DOLocationID</th>\n",
       "      <th>payment_type</th>\n",
       "      <th>fare_amount</th>\n",
       "      <th>extra</th>\n",
       "      <th>mta_tax</th>\n",
       "      <th>tip_amount</th>\n",
       "      <th>tolls_amount</th>\n",
       "      <th>improvement_surcharge</th>\n",
       "      <th>total_amount</th>\n",
       "      <th>trip_duration</th>\n",
       "      <th>trip_dayofmonth</th>\n",
       "      <th>trip_dayofweek</th>\n",
       "      <th>trip_DO_hourofday</th>\n",
       "      <th>trip_PU_hourofday</th>\n",
       "    </tr>\n",
       "  </thead>\n",
       "  <tbody>\n",
       "    <tr>\n",
       "      <th>count</th>\n",
       "      <td>9.496844e+06</td>\n",
       "      <td>9.496844e+06</td>\n",
       "      <td>9.496844e+06</td>\n",
       "      <td>9.496844e+06</td>\n",
       "      <td>9.496844e+06</td>\n",
       "      <td>9.496844e+06</td>\n",
       "      <td>9.496844e+06</td>\n",
       "      <td>9.496844e+06</td>\n",
       "      <td>9.496844e+06</td>\n",
       "      <td>9.496844e+06</td>\n",
       "      <td>9.496844e+06</td>\n",
       "      <td>9.496844e+06</td>\n",
       "      <td>9.496844e+06</td>\n",
       "      <td>9.496844e+06</td>\n",
       "      <td>9.496844e+06</td>\n",
       "      <td>9.496844e+06</td>\n",
       "      <td>9.496844e+06</td>\n",
       "      <td>9.496844e+06</td>\n",
       "      <td>9.496844e+06</td>\n",
       "    </tr>\n",
       "    <tr>\n",
       "      <th>mean</th>\n",
       "      <td>1.551867e+00</td>\n",
       "      <td>1.632331e+00</td>\n",
       "      <td>2.828635e+00</td>\n",
       "      <td>1.038266e+00</td>\n",
       "      <td>1.638989e+02</td>\n",
       "      <td>1.618016e+02</td>\n",
       "      <td>1.344701e+00</td>\n",
       "      <td>1.281211e+01</td>\n",
       "      <td>3.226299e-01</td>\n",
       "      <td>4.979657e-01</td>\n",
       "      <td>1.806736e+00</td>\n",
       "      <td>3.106390e-01</td>\n",
       "      <td>2.999301e-01</td>\n",
       "      <td>1.605312e+01</td>\n",
       "      <td>1.739875e+01</td>\n",
       "      <td>1.499826e+01</td>\n",
       "      <td>3.218556e+00</td>\n",
       "      <td>1.374051e+01</td>\n",
       "      <td>1.373421e+01</td>\n",
       "    </tr>\n",
       "    <tr>\n",
       "      <th>std</th>\n",
       "      <td>4.973026e-01</td>\n",
       "      <td>1.264035e+00</td>\n",
       "      <td>3.581885e+00</td>\n",
       "      <td>3.934983e-01</td>\n",
       "      <td>6.686743e+01</td>\n",
       "      <td>7.059199e+01</td>\n",
       "      <td>4.943148e-01</td>\n",
       "      <td>1.056595e+01</td>\n",
       "      <td>4.486628e-01</td>\n",
       "      <td>4.992768e-02</td>\n",
       "      <td>2.542842e+00</td>\n",
       "      <td>1.825705e+00</td>\n",
       "      <td>4.868355e-03</td>\n",
       "      <td>1.324649e+01</td>\n",
       "      <td>6.428440e+01</td>\n",
       "      <td>8.672898e+00</td>\n",
       "      <td>1.936283e+00</td>\n",
       "      <td>6.327982e+00</td>\n",
       "      <td>6.230510e+00</td>\n",
       "    </tr>\n",
       "    <tr>\n",
       "      <th>min</th>\n",
       "      <td>1.000000e+00</td>\n",
       "      <td>0.000000e+00</td>\n",
       "      <td>0.000000e+00</td>\n",
       "      <td>1.000000e+00</td>\n",
       "      <td>1.000000e+00</td>\n",
       "      <td>1.000000e+00</td>\n",
       "      <td>1.000000e+00</td>\n",
       "      <td>0.000000e+00</td>\n",
       "      <td>-1.000000e+01</td>\n",
       "      <td>0.000000e+00</td>\n",
       "      <td>0.000000e+00</td>\n",
       "      <td>0.000000e+00</td>\n",
       "      <td>0.000000e+00</td>\n",
       "      <td>0.000000e+00</td>\n",
       "      <td>0.000000e+00</td>\n",
       "      <td>1.000000e+00</td>\n",
       "      <td>0.000000e+00</td>\n",
       "      <td>0.000000e+00</td>\n",
       "      <td>0.000000e+00</td>\n",
       "    </tr>\n",
       "    <tr>\n",
       "      <th>25%</th>\n",
       "      <td>1.000000e+00</td>\n",
       "      <td>1.000000e+00</td>\n",
       "      <td>9.300000e-01</td>\n",
       "      <td>1.000000e+00</td>\n",
       "      <td>1.140000e+02</td>\n",
       "      <td>1.120000e+02</td>\n",
       "      <td>1.000000e+00</td>\n",
       "      <td>6.500000e+00</td>\n",
       "      <td>0.000000e+00</td>\n",
       "      <td>5.000000e-01</td>\n",
       "      <td>0.000000e+00</td>\n",
       "      <td>0.000000e+00</td>\n",
       "      <td>3.000000e-01</td>\n",
       "      <td>8.300000e+00</td>\n",
       "      <td>6.600000e+00</td>\n",
       "      <td>8.000000e+00</td>\n",
       "      <td>2.000000e+00</td>\n",
       "      <td>1.000000e+01</td>\n",
       "      <td>1.000000e+01</td>\n",
       "    </tr>\n",
       "    <tr>\n",
       "      <th>50%</th>\n",
       "      <td>2.000000e+00</td>\n",
       "      <td>1.000000e+00</td>\n",
       "      <td>1.600000e+00</td>\n",
       "      <td>1.000000e+00</td>\n",
       "      <td>1.620000e+02</td>\n",
       "      <td>1.620000e+02</td>\n",
       "      <td>1.000000e+00</td>\n",
       "      <td>9.500000e+00</td>\n",
       "      <td>0.000000e+00</td>\n",
       "      <td>5.000000e-01</td>\n",
       "      <td>1.320000e+00</td>\n",
       "      <td>0.000000e+00</td>\n",
       "      <td>3.000000e-01</td>\n",
       "      <td>1.180000e+01</td>\n",
       "      <td>1.130000e+01</td>\n",
       "      <td>1.500000e+01</td>\n",
       "      <td>3.000000e+00</td>\n",
       "      <td>1.400000e+01</td>\n",
       "      <td>1.400000e+01</td>\n",
       "    </tr>\n",
       "    <tr>\n",
       "      <th>75%</th>\n",
       "      <td>2.000000e+00</td>\n",
       "      <td>2.000000e+00</td>\n",
       "      <td>2.950000e+00</td>\n",
       "      <td>1.000000e+00</td>\n",
       "      <td>2.340000e+02</td>\n",
       "      <td>2.340000e+02</td>\n",
       "      <td>2.000000e+00</td>\n",
       "      <td>1.450000e+01</td>\n",
       "      <td>5.000000e-01</td>\n",
       "      <td>5.000000e-01</td>\n",
       "      <td>2.450000e+00</td>\n",
       "      <td>0.000000e+00</td>\n",
       "      <td>3.000000e-01</td>\n",
       "      <td>1.780000e+01</td>\n",
       "      <td>1.880000e+01</td>\n",
       "      <td>2.200000e+01</td>\n",
       "      <td>5.000000e+00</td>\n",
       "      <td>1.900000e+01</td>\n",
       "      <td>1.900000e+01</td>\n",
       "    </tr>\n",
       "    <tr>\n",
       "      <th>max</th>\n",
       "      <td>2.000000e+00</td>\n",
       "      <td>9.000000e+00</td>\n",
       "      <td>4.000000e+01</td>\n",
       "      <td>9.900000e+01</td>\n",
       "      <td>2.650000e+02</td>\n",
       "      <td>2.650000e+02</td>\n",
       "      <td>4.000000e+00</td>\n",
       "      <td>1.000000e+02</td>\n",
       "      <td>6.980000e+01</td>\n",
       "      <td>1.178500e+02</td>\n",
       "      <td>4.960000e+02</td>\n",
       "      <td>9.758900e+02</td>\n",
       "      <td>1.000000e+00</td>\n",
       "      <td>1.028690e+03</td>\n",
       "      <td>1.439983e+03</td>\n",
       "      <td>3.100000e+01</td>\n",
       "      <td>6.000000e+00</td>\n",
       "      <td>2.300000e+01</td>\n",
       "      <td>2.300000e+01</td>\n",
       "    </tr>\n",
       "  </tbody>\n",
       "</table>\n",
       "</div>"
      ],
      "text/plain": [
       "           VendorID  passenger_count  trip_distance    RatecodeID  \\\n",
       "count  9.496844e+06     9.496844e+06   9.496844e+06  9.496844e+06   \n",
       "mean   1.551867e+00     1.632331e+00   2.828635e+00  1.038266e+00   \n",
       "std    4.973026e-01     1.264035e+00   3.581885e+00  3.934983e-01   \n",
       "min    1.000000e+00     0.000000e+00   0.000000e+00  1.000000e+00   \n",
       "25%    1.000000e+00     1.000000e+00   9.300000e-01  1.000000e+00   \n",
       "50%    2.000000e+00     1.000000e+00   1.600000e+00  1.000000e+00   \n",
       "75%    2.000000e+00     2.000000e+00   2.950000e+00  1.000000e+00   \n",
       "max    2.000000e+00     9.000000e+00   4.000000e+01  9.900000e+01   \n",
       "\n",
       "       PULocationID  DOLocationID  payment_type   fare_amount         extra  \\\n",
       "count  9.496844e+06  9.496844e+06  9.496844e+06  9.496844e+06  9.496844e+06   \n",
       "mean   1.638989e+02  1.618016e+02  1.344701e+00  1.281211e+01  3.226299e-01   \n",
       "std    6.686743e+01  7.059199e+01  4.943148e-01  1.056595e+01  4.486628e-01   \n",
       "min    1.000000e+00  1.000000e+00  1.000000e+00  0.000000e+00 -1.000000e+01   \n",
       "25%    1.140000e+02  1.120000e+02  1.000000e+00  6.500000e+00  0.000000e+00   \n",
       "50%    1.620000e+02  1.620000e+02  1.000000e+00  9.500000e+00  0.000000e+00   \n",
       "75%    2.340000e+02  2.340000e+02  2.000000e+00  1.450000e+01  5.000000e-01   \n",
       "max    2.650000e+02  2.650000e+02  4.000000e+00  1.000000e+02  6.980000e+01   \n",
       "\n",
       "            mta_tax    tip_amount  tolls_amount  improvement_surcharge  \\\n",
       "count  9.496844e+06  9.496844e+06  9.496844e+06           9.496844e+06   \n",
       "mean   4.979657e-01  1.806736e+00  3.106390e-01           2.999301e-01   \n",
       "std    4.992768e-02  2.542842e+00  1.825705e+00           4.868355e-03   \n",
       "min    0.000000e+00  0.000000e+00  0.000000e+00           0.000000e+00   \n",
       "25%    5.000000e-01  0.000000e+00  0.000000e+00           3.000000e-01   \n",
       "50%    5.000000e-01  1.320000e+00  0.000000e+00           3.000000e-01   \n",
       "75%    5.000000e-01  2.450000e+00  0.000000e+00           3.000000e-01   \n",
       "max    1.178500e+02  4.960000e+02  9.758900e+02           1.000000e+00   \n",
       "\n",
       "       total_amount  trip_duration  trip_dayofmonth  trip_dayofweek  \\\n",
       "count  9.496844e+06   9.496844e+06     9.496844e+06    9.496844e+06   \n",
       "mean   1.605312e+01   1.739875e+01     1.499826e+01    3.218556e+00   \n",
       "std    1.324649e+01   6.428440e+01     8.672898e+00    1.936283e+00   \n",
       "min    0.000000e+00   0.000000e+00     1.000000e+00    0.000000e+00   \n",
       "25%    8.300000e+00   6.600000e+00     8.000000e+00    2.000000e+00   \n",
       "50%    1.180000e+01   1.130000e+01     1.500000e+01    3.000000e+00   \n",
       "75%    1.780000e+01   1.880000e+01     2.200000e+01    5.000000e+00   \n",
       "max    1.028690e+03   1.439983e+03     3.100000e+01    6.000000e+00   \n",
       "\n",
       "       trip_DO_hourofday  trip_PU_hourofday  \n",
       "count       9.496844e+06       9.496844e+06  \n",
       "mean        1.374051e+01       1.373421e+01  \n",
       "std         6.327982e+00       6.230510e+00  \n",
       "min         0.000000e+00       0.000000e+00  \n",
       "25%         1.000000e+01       1.000000e+01  \n",
       "50%         1.400000e+01       1.400000e+01  \n",
       "75%         1.900000e+01       1.900000e+01  \n",
       "max         2.300000e+01       2.300000e+01  "
      ]
     },
     "execution_count": 39,
     "metadata": {},
     "output_type": "execute_result"
    }
   ],
   "source": [
    "yellow_data.describe()"
   ]
  },
  {
   "cell_type": "code",
   "execution_count": 40,
   "metadata": {
    "slideshow": {
     "slide_type": "notes"
    }
   },
   "outputs": [
    {
     "data": {
      "text/html": [
       "<div>\n",
       "<style>\n",
       "    .dataframe thead tr:only-child th {\n",
       "        text-align: right;\n",
       "    }\n",
       "\n",
       "    .dataframe thead th {\n",
       "        text-align: left;\n",
       "    }\n",
       "\n",
       "    .dataframe tbody tr th {\n",
       "        vertical-align: top;\n",
       "    }\n",
       "</style>\n",
       "<table border=\"1\" class=\"dataframe\">\n",
       "  <thead>\n",
       "    <tr style=\"text-align: right;\">\n",
       "      <th></th>\n",
       "      <th>VendorID</th>\n",
       "      <th>RatecodeID</th>\n",
       "      <th>PULocationID</th>\n",
       "      <th>DOLocationID</th>\n",
       "      <th>passenger_count</th>\n",
       "      <th>trip_distance</th>\n",
       "      <th>fare_amount</th>\n",
       "      <th>extra</th>\n",
       "      <th>mta_tax</th>\n",
       "      <th>tip_amount</th>\n",
       "      <th>...</th>\n",
       "      <th>ehail_fee</th>\n",
       "      <th>improvement_surcharge</th>\n",
       "      <th>total_amount</th>\n",
       "      <th>payment_type</th>\n",
       "      <th>trip_type</th>\n",
       "      <th>trip_duration</th>\n",
       "      <th>trip_dayofmonth</th>\n",
       "      <th>trip_dayofweek</th>\n",
       "      <th>trip_DO_hourofday</th>\n",
       "      <th>trip_PU_hourofday</th>\n",
       "    </tr>\n",
       "  </thead>\n",
       "  <tbody>\n",
       "    <tr>\n",
       "      <th>count</th>\n",
       "      <td>903577.000000</td>\n",
       "      <td>903577.000000</td>\n",
       "      <td>903577.000000</td>\n",
       "      <td>903577.000000</td>\n",
       "      <td>903577.000000</td>\n",
       "      <td>903577.000000</td>\n",
       "      <td>903577.000000</td>\n",
       "      <td>903577.000000</td>\n",
       "      <td>903577.000000</td>\n",
       "      <td>903577.000000</td>\n",
       "      <td>...</td>\n",
       "      <td>0.0</td>\n",
       "      <td>903577.000000</td>\n",
       "      <td>903577.000000</td>\n",
       "      <td>903577.000000</td>\n",
       "      <td>903576.00000</td>\n",
       "      <td>903577.000000</td>\n",
       "      <td>903577.000000</td>\n",
       "      <td>903577.000000</td>\n",
       "      <td>903577.000000</td>\n",
       "      <td>903577.000000</td>\n",
       "    </tr>\n",
       "    <tr>\n",
       "      <th>mean</th>\n",
       "      <td>1.825363</td>\n",
       "      <td>1.070470</td>\n",
       "      <td>110.795048</td>\n",
       "      <td>128.527822</td>\n",
       "      <td>1.367945</td>\n",
       "      <td>2.675409</td>\n",
       "      <td>11.858552</td>\n",
       "      <td>0.342786</td>\n",
       "      <td>0.490943</td>\n",
       "      <td>1.050019</td>\n",
       "      <td>...</td>\n",
       "      <td>NaN</td>\n",
       "      <td>0.294842</td>\n",
       "      <td>14.162448</td>\n",
       "      <td>1.489958</td>\n",
       "      <td>1.01688</td>\n",
       "      <td>21.069799</td>\n",
       "      <td>15.405881</td>\n",
       "      <td>3.328182</td>\n",
       "      <td>13.980059</td>\n",
       "      <td>13.964567</td>\n",
       "    </tr>\n",
       "    <tr>\n",
       "      <th>std</th>\n",
       "      <td>0.379657</td>\n",
       "      <td>0.525971</td>\n",
       "      <td>74.915133</td>\n",
       "      <td>76.945219</td>\n",
       "      <td>1.050018</td>\n",
       "      <td>2.814064</td>\n",
       "      <td>8.959207</td>\n",
       "      <td>0.388236</td>\n",
       "      <td>0.066681</td>\n",
       "      <td>1.907883</td>\n",
       "      <td>...</td>\n",
       "      <td>NaN</td>\n",
       "      <td>0.038996</td>\n",
       "      <td>10.093617</td>\n",
       "      <td>0.514658</td>\n",
       "      <td>0.12882</td>\n",
       "      <td>103.633854</td>\n",
       "      <td>8.857519</td>\n",
       "      <td>1.938757</td>\n",
       "      <td>6.347744</td>\n",
       "      <td>6.260383</td>\n",
       "    </tr>\n",
       "    <tr>\n",
       "      <th>min</th>\n",
       "      <td>1.000000</td>\n",
       "      <td>1.000000</td>\n",
       "      <td>1.000000</td>\n",
       "      <td>1.000000</td>\n",
       "      <td>0.000000</td>\n",
       "      <td>0.000000</td>\n",
       "      <td>0.000000</td>\n",
       "      <td>0.000000</td>\n",
       "      <td>0.000000</td>\n",
       "      <td>0.000000</td>\n",
       "      <td>...</td>\n",
       "      <td>NaN</td>\n",
       "      <td>0.000000</td>\n",
       "      <td>0.000000</td>\n",
       "      <td>1.000000</td>\n",
       "      <td>1.00000</td>\n",
       "      <td>0.000000</td>\n",
       "      <td>1.000000</td>\n",
       "      <td>0.000000</td>\n",
       "      <td>0.000000</td>\n",
       "      <td>0.000000</td>\n",
       "    </tr>\n",
       "    <tr>\n",
       "      <th>25%</th>\n",
       "      <td>2.000000</td>\n",
       "      <td>1.000000</td>\n",
       "      <td>49.000000</td>\n",
       "      <td>61.000000</td>\n",
       "      <td>1.000000</td>\n",
       "      <td>1.000000</td>\n",
       "      <td>6.000000</td>\n",
       "      <td>0.000000</td>\n",
       "      <td>0.500000</td>\n",
       "      <td>0.000000</td>\n",
       "      <td>...</td>\n",
       "      <td>NaN</td>\n",
       "      <td>0.300000</td>\n",
       "      <td>7.800000</td>\n",
       "      <td>1.000000</td>\n",
       "      <td>1.00000</td>\n",
       "      <td>6.000000</td>\n",
       "      <td>8.000000</td>\n",
       "      <td>2.000000</td>\n",
       "      <td>10.000000</td>\n",
       "      <td>10.000000</td>\n",
       "    </tr>\n",
       "    <tr>\n",
       "      <th>50%</th>\n",
       "      <td>2.000000</td>\n",
       "      <td>1.000000</td>\n",
       "      <td>82.000000</td>\n",
       "      <td>129.000000</td>\n",
       "      <td>1.000000</td>\n",
       "      <td>1.720000</td>\n",
       "      <td>9.000000</td>\n",
       "      <td>0.500000</td>\n",
       "      <td>0.500000</td>\n",
       "      <td>0.000000</td>\n",
       "      <td>...</td>\n",
       "      <td>NaN</td>\n",
       "      <td>0.300000</td>\n",
       "      <td>11.000000</td>\n",
       "      <td>1.000000</td>\n",
       "      <td>1.00000</td>\n",
       "      <td>10.083333</td>\n",
       "      <td>15.000000</td>\n",
       "      <td>4.000000</td>\n",
       "      <td>15.000000</td>\n",
       "      <td>15.000000</td>\n",
       "    </tr>\n",
       "    <tr>\n",
       "      <th>75%</th>\n",
       "      <td>2.000000</td>\n",
       "      <td>1.000000</td>\n",
       "      <td>166.000000</td>\n",
       "      <td>191.000000</td>\n",
       "      <td>1.000000</td>\n",
       "      <td>3.280000</td>\n",
       "      <td>14.500000</td>\n",
       "      <td>0.500000</td>\n",
       "      <td>0.500000</td>\n",
       "      <td>1.760000</td>\n",
       "      <td>...</td>\n",
       "      <td>NaN</td>\n",
       "      <td>0.300000</td>\n",
       "      <td>16.800000</td>\n",
       "      <td>2.000000</td>\n",
       "      <td>1.00000</td>\n",
       "      <td>16.800000</td>\n",
       "      <td>22.000000</td>\n",
       "      <td>5.000000</td>\n",
       "      <td>19.000000</td>\n",
       "      <td>19.000000</td>\n",
       "    </tr>\n",
       "    <tr>\n",
       "      <th>max</th>\n",
       "      <td>2.000000</td>\n",
       "      <td>99.000000</td>\n",
       "      <td>265.000000</td>\n",
       "      <td>265.000000</td>\n",
       "      <td>9.000000</td>\n",
       "      <td>39.940000</td>\n",
       "      <td>100.000000</td>\n",
       "      <td>4.500000</td>\n",
       "      <td>0.500000</td>\n",
       "      <td>200.080000</td>\n",
       "      <td>...</td>\n",
       "      <td>NaN</td>\n",
       "      <td>0.300000</td>\n",
       "      <td>209.080000</td>\n",
       "      <td>5.000000</td>\n",
       "      <td>2.00000</td>\n",
       "      <td>1439.866667</td>\n",
       "      <td>31.000000</td>\n",
       "      <td>6.000000</td>\n",
       "      <td>23.000000</td>\n",
       "      <td>23.000000</td>\n",
       "    </tr>\n",
       "  </tbody>\n",
       "</table>\n",
       "<p>8 rows × 21 columns</p>\n",
       "</div>"
      ],
      "text/plain": [
       "            VendorID     RatecodeID   PULocationID   DOLocationID  \\\n",
       "count  903577.000000  903577.000000  903577.000000  903577.000000   \n",
       "mean        1.825363       1.070470     110.795048     128.527822   \n",
       "std         0.379657       0.525971      74.915133      76.945219   \n",
       "min         1.000000       1.000000       1.000000       1.000000   \n",
       "25%         2.000000       1.000000      49.000000      61.000000   \n",
       "50%         2.000000       1.000000      82.000000     129.000000   \n",
       "75%         2.000000       1.000000     166.000000     191.000000   \n",
       "max         2.000000      99.000000     265.000000     265.000000   \n",
       "\n",
       "       passenger_count  trip_distance    fare_amount          extra  \\\n",
       "count    903577.000000  903577.000000  903577.000000  903577.000000   \n",
       "mean          1.367945       2.675409      11.858552       0.342786   \n",
       "std           1.050018       2.814064       8.959207       0.388236   \n",
       "min           0.000000       0.000000       0.000000       0.000000   \n",
       "25%           1.000000       1.000000       6.000000       0.000000   \n",
       "50%           1.000000       1.720000       9.000000       0.500000   \n",
       "75%           1.000000       3.280000      14.500000       0.500000   \n",
       "max           9.000000      39.940000     100.000000       4.500000   \n",
       "\n",
       "             mta_tax     tip_amount        ...          ehail_fee  \\\n",
       "count  903577.000000  903577.000000        ...                0.0   \n",
       "mean        0.490943       1.050019        ...                NaN   \n",
       "std         0.066681       1.907883        ...                NaN   \n",
       "min         0.000000       0.000000        ...                NaN   \n",
       "25%         0.500000       0.000000        ...                NaN   \n",
       "50%         0.500000       0.000000        ...                NaN   \n",
       "75%         0.500000       1.760000        ...                NaN   \n",
       "max         0.500000     200.080000        ...                NaN   \n",
       "\n",
       "       improvement_surcharge   total_amount   payment_type     trip_type  \\\n",
       "count          903577.000000  903577.000000  903577.000000  903576.00000   \n",
       "mean                0.294842      14.162448       1.489958       1.01688   \n",
       "std                 0.038996      10.093617       0.514658       0.12882   \n",
       "min                 0.000000       0.000000       1.000000       1.00000   \n",
       "25%                 0.300000       7.800000       1.000000       1.00000   \n",
       "50%                 0.300000      11.000000       1.000000       1.00000   \n",
       "75%                 0.300000      16.800000       2.000000       1.00000   \n",
       "max                 0.300000     209.080000       5.000000       2.00000   \n",
       "\n",
       "       trip_duration  trip_dayofmonth  trip_dayofweek  trip_DO_hourofday  \\\n",
       "count  903577.000000    903577.000000   903577.000000      903577.000000   \n",
       "mean       21.069799        15.405881        3.328182          13.980059   \n",
       "std       103.633854         8.857519        1.938757           6.347744   \n",
       "min         0.000000         1.000000        0.000000           0.000000   \n",
       "25%         6.000000         8.000000        2.000000          10.000000   \n",
       "50%        10.083333        15.000000        4.000000          15.000000   \n",
       "75%        16.800000        22.000000        5.000000          19.000000   \n",
       "max      1439.866667        31.000000        6.000000          23.000000   \n",
       "\n",
       "       trip_PU_hourofday  \n",
       "count      903577.000000  \n",
       "mean           13.964567  \n",
       "std             6.260383  \n",
       "min             0.000000  \n",
       "25%            10.000000  \n",
       "50%            15.000000  \n",
       "75%            19.000000  \n",
       "max            23.000000  \n",
       "\n",
       "[8 rows x 21 columns]"
      ]
     },
     "execution_count": 40,
     "metadata": {},
     "output_type": "execute_result"
    }
   ],
   "source": [
    "green_data.describe()"
   ]
  },
  {
   "cell_type": "markdown",
   "metadata": {
    "slideshow": {
     "slide_type": "slide"
    }
   },
   "source": [
    "## Merge location names with ID's"
   ]
  },
  {
   "cell_type": "code",
   "execution_count": 41,
   "metadata": {
    "slideshow": {
     "slide_type": "subslide"
    }
   },
   "outputs": [
    {
     "data": {
      "text/html": [
       "<div>\n",
       "<style>\n",
       "    .dataframe thead tr:only-child th {\n",
       "        text-align: right;\n",
       "    }\n",
       "\n",
       "    .dataframe thead th {\n",
       "        text-align: left;\n",
       "    }\n",
       "\n",
       "    .dataframe tbody tr th {\n",
       "        vertical-align: top;\n",
       "    }\n",
       "</style>\n",
       "<table border=\"1\" class=\"dataframe\">\n",
       "  <thead>\n",
       "    <tr style=\"text-align: right;\">\n",
       "      <th></th>\n",
       "      <th>VendorID</th>\n",
       "      <th>tpep_pickup_datetime</th>\n",
       "      <th>tpep_dropoff_datetime</th>\n",
       "      <th>passenger_count</th>\n",
       "      <th>trip_distance</th>\n",
       "      <th>RatecodeID</th>\n",
       "      <th>store_and_fwd_flag</th>\n",
       "      <th>PULocationID</th>\n",
       "      <th>DOLocationID</th>\n",
       "      <th>payment_type</th>\n",
       "      <th>...</th>\n",
       "      <th>total_amount</th>\n",
       "      <th>trip_duration</th>\n",
       "      <th>trip_dayofmonth</th>\n",
       "      <th>trip_dayofweek</th>\n",
       "      <th>trip_DO_hourofday</th>\n",
       "      <th>trip_PU_hourofday</th>\n",
       "      <th>PU Zone</th>\n",
       "      <th>PU Borough</th>\n",
       "      <th>DO Zone</th>\n",
       "      <th>DO Borough</th>\n",
       "    </tr>\n",
       "  </thead>\n",
       "  <tbody>\n",
       "    <tr>\n",
       "      <th>0</th>\n",
       "      <td>1</td>\n",
       "      <td>2017-12-01 00:12:00</td>\n",
       "      <td>2017-12-01 00:12:51</td>\n",
       "      <td>1</td>\n",
       "      <td>0.00</td>\n",
       "      <td>1</td>\n",
       "      <td>N</td>\n",
       "      <td>226</td>\n",
       "      <td>226</td>\n",
       "      <td>3</td>\n",
       "      <td>...</td>\n",
       "      <td>3.8</td>\n",
       "      <td>0.850000</td>\n",
       "      <td>1</td>\n",
       "      <td>4</td>\n",
       "      <td>0</td>\n",
       "      <td>0</td>\n",
       "      <td>Sunnyside</td>\n",
       "      <td>Queens</td>\n",
       "      <td>Sunnyside</td>\n",
       "      <td>Queens</td>\n",
       "    </tr>\n",
       "    <tr>\n",
       "      <th>1</th>\n",
       "      <td>1</td>\n",
       "      <td>2017-12-01 00:13:37</td>\n",
       "      <td>2017-12-01 00:13:47</td>\n",
       "      <td>1</td>\n",
       "      <td>0.00</td>\n",
       "      <td>1</td>\n",
       "      <td>N</td>\n",
       "      <td>226</td>\n",
       "      <td>226</td>\n",
       "      <td>3</td>\n",
       "      <td>...</td>\n",
       "      <td>3.8</td>\n",
       "      <td>0.166667</td>\n",
       "      <td>1</td>\n",
       "      <td>4</td>\n",
       "      <td>0</td>\n",
       "      <td>0</td>\n",
       "      <td>Sunnyside</td>\n",
       "      <td>Queens</td>\n",
       "      <td>Sunnyside</td>\n",
       "      <td>Queens</td>\n",
       "    </tr>\n",
       "    <tr>\n",
       "      <th>2</th>\n",
       "      <td>1</td>\n",
       "      <td>2017-12-01 00:14:15</td>\n",
       "      <td>2017-12-01 00:15:05</td>\n",
       "      <td>1</td>\n",
       "      <td>0.00</td>\n",
       "      <td>1</td>\n",
       "      <td>N</td>\n",
       "      <td>226</td>\n",
       "      <td>226</td>\n",
       "      <td>3</td>\n",
       "      <td>...</td>\n",
       "      <td>3.8</td>\n",
       "      <td>0.833333</td>\n",
       "      <td>1</td>\n",
       "      <td>4</td>\n",
       "      <td>0</td>\n",
       "      <td>0</td>\n",
       "      <td>Sunnyside</td>\n",
       "      <td>Queens</td>\n",
       "      <td>Sunnyside</td>\n",
       "      <td>Queens</td>\n",
       "    </tr>\n",
       "    <tr>\n",
       "      <th>3</th>\n",
       "      <td>1</td>\n",
       "      <td>2017-12-01 00:15:33</td>\n",
       "      <td>2017-12-01 00:15:37</td>\n",
       "      <td>1</td>\n",
       "      <td>0.00</td>\n",
       "      <td>1</td>\n",
       "      <td>N</td>\n",
       "      <td>226</td>\n",
       "      <td>226</td>\n",
       "      <td>3</td>\n",
       "      <td>...</td>\n",
       "      <td>3.8</td>\n",
       "      <td>0.066667</td>\n",
       "      <td>1</td>\n",
       "      <td>4</td>\n",
       "      <td>0</td>\n",
       "      <td>0</td>\n",
       "      <td>Sunnyside</td>\n",
       "      <td>Queens</td>\n",
       "      <td>Sunnyside</td>\n",
       "      <td>Queens</td>\n",
       "    </tr>\n",
       "    <tr>\n",
       "      <th>4</th>\n",
       "      <td>2</td>\n",
       "      <td>2017-12-01 00:08:53</td>\n",
       "      <td>2017-12-01 00:15:50</td>\n",
       "      <td>1</td>\n",
       "      <td>1.35</td>\n",
       "      <td>1</td>\n",
       "      <td>N</td>\n",
       "      <td>226</td>\n",
       "      <td>226</td>\n",
       "      <td>2</td>\n",
       "      <td>...</td>\n",
       "      <td>8.3</td>\n",
       "      <td>6.950000</td>\n",
       "      <td>1</td>\n",
       "      <td>4</td>\n",
       "      <td>0</td>\n",
       "      <td>0</td>\n",
       "      <td>Sunnyside</td>\n",
       "      <td>Queens</td>\n",
       "      <td>Sunnyside</td>\n",
       "      <td>Queens</td>\n",
       "    </tr>\n",
       "  </tbody>\n",
       "</table>\n",
       "<p>5 rows × 26 columns</p>\n",
       "</div>"
      ],
      "text/plain": [
       "   VendorID tpep_pickup_datetime tpep_dropoff_datetime  passenger_count  \\\n",
       "0         1  2017-12-01 00:12:00   2017-12-01 00:12:51                1   \n",
       "1         1  2017-12-01 00:13:37   2017-12-01 00:13:47                1   \n",
       "2         1  2017-12-01 00:14:15   2017-12-01 00:15:05                1   \n",
       "3         1  2017-12-01 00:15:33   2017-12-01 00:15:37                1   \n",
       "4         2  2017-12-01 00:08:53   2017-12-01 00:15:50                1   \n",
       "\n",
       "   trip_distance  RatecodeID store_and_fwd_flag  PULocationID  DOLocationID  \\\n",
       "0           0.00           1                  N           226           226   \n",
       "1           0.00           1                  N           226           226   \n",
       "2           0.00           1                  N           226           226   \n",
       "3           0.00           1                  N           226           226   \n",
       "4           1.35           1                  N           226           226   \n",
       "\n",
       "   payment_type     ...      total_amount  trip_duration  trip_dayofmonth  \\\n",
       "0             3     ...               3.8       0.850000                1   \n",
       "1             3     ...               3.8       0.166667                1   \n",
       "2             3     ...               3.8       0.833333                1   \n",
       "3             3     ...               3.8       0.066667                1   \n",
       "4             2     ...               8.3       6.950000                1   \n",
       "\n",
       "   trip_dayofweek  trip_DO_hourofday  trip_PU_hourofday    PU Zone  \\\n",
       "0               4                  0                  0  Sunnyside   \n",
       "1               4                  0                  0  Sunnyside   \n",
       "2               4                  0                  0  Sunnyside   \n",
       "3               4                  0                  0  Sunnyside   \n",
       "4               4                  0                  0  Sunnyside   \n",
       "\n",
       "   PU Borough    DO Zone  DO Borough  \n",
       "0      Queens  Sunnyside      Queens  \n",
       "1      Queens  Sunnyside      Queens  \n",
       "2      Queens  Sunnyside      Queens  \n",
       "3      Queens  Sunnyside      Queens  \n",
       "4      Queens  Sunnyside      Queens  \n",
       "\n",
       "[5 rows x 26 columns]"
      ]
     },
     "execution_count": 41,
     "metadata": {},
     "output_type": "execute_result"
    }
   ],
   "source": [
    "yellow_data = pd.merge(left=yellow_data, right=zone_df[['Zone', 'Location ID', 'Borough']], \\\n",
    "                       left_on='PULocationID', right_on='Location ID')\n",
    "#print(yellow_data.head())\n",
    "yellow_data.rename(columns={'Zone':'PU Zone', 'Borough':'PU Borough'}, inplace=True)\n",
    "yellow_data.drop(labels='Location ID', inplace=True, axis=1)\n",
    "\n",
    "yellow_data = pd.merge(left=yellow_data, right=zone_df[['Zone', 'Location ID', 'Borough']], \\\n",
    "                       left_on='DOLocationID', right_on='Location ID')\n",
    "#print(yellow_data.head())\n",
    "yellow_data.rename(columns={'Zone':'DO Zone', 'Borough':'DO Borough'}, inplace=True)\n",
    "yellow_data.drop(labels='Location ID', inplace=True, axis=1)\n",
    "\n",
    "yellow_data.head()"
   ]
  },
  {
   "cell_type": "code",
   "execution_count": 42,
   "metadata": {
    "slideshow": {
     "slide_type": "fragment"
    }
   },
   "outputs": [
    {
     "data": {
      "text/html": [
       "<div>\n",
       "<style>\n",
       "    .dataframe thead tr:only-child th {\n",
       "        text-align: right;\n",
       "    }\n",
       "\n",
       "    .dataframe thead th {\n",
       "        text-align: left;\n",
       "    }\n",
       "\n",
       "    .dataframe tbody tr th {\n",
       "        vertical-align: top;\n",
       "    }\n",
       "</style>\n",
       "<table border=\"1\" class=\"dataframe\">\n",
       "  <thead>\n",
       "    <tr style=\"text-align: right;\">\n",
       "      <th></th>\n",
       "      <th>VendorID</th>\n",
       "      <th>lpep_pickup_datetime</th>\n",
       "      <th>lpep_dropoff_datetime</th>\n",
       "      <th>store_and_fwd_flag</th>\n",
       "      <th>RatecodeID</th>\n",
       "      <th>PULocationID</th>\n",
       "      <th>DOLocationID</th>\n",
       "      <th>passenger_count</th>\n",
       "      <th>trip_distance</th>\n",
       "      <th>fare_amount</th>\n",
       "      <th>...</th>\n",
       "      <th>trip_type</th>\n",
       "      <th>trip_duration</th>\n",
       "      <th>trip_dayofmonth</th>\n",
       "      <th>trip_dayofweek</th>\n",
       "      <th>trip_DO_hourofday</th>\n",
       "      <th>trip_PU_hourofday</th>\n",
       "      <th>PU Zone</th>\n",
       "      <th>PU Borough</th>\n",
       "      <th>DO Zone</th>\n",
       "      <th>DO Borough</th>\n",
       "    </tr>\n",
       "  </thead>\n",
       "  <tbody>\n",
       "    <tr>\n",
       "      <th>0</th>\n",
       "      <td>1</td>\n",
       "      <td>2017-12-01 00:33:14</td>\n",
       "      <td>2017-12-01 00:40:22</td>\n",
       "      <td>N</td>\n",
       "      <td>1</td>\n",
       "      <td>42</td>\n",
       "      <td>24</td>\n",
       "      <td>1</td>\n",
       "      <td>1.40</td>\n",
       "      <td>7.5</td>\n",
       "      <td>...</td>\n",
       "      <td>1.0</td>\n",
       "      <td>7.133333</td>\n",
       "      <td>1</td>\n",
       "      <td>4</td>\n",
       "      <td>0</td>\n",
       "      <td>0</td>\n",
       "      <td>Central Harlem North</td>\n",
       "      <td>Manhattan</td>\n",
       "      <td>Bloomingdale</td>\n",
       "      <td>Manhattan</td>\n",
       "    </tr>\n",
       "    <tr>\n",
       "      <th>1</th>\n",
       "      <td>2</td>\n",
       "      <td>2017-12-01 05:03:44</td>\n",
       "      <td>2017-12-01 05:08:42</td>\n",
       "      <td>N</td>\n",
       "      <td>1</td>\n",
       "      <td>42</td>\n",
       "      <td>24</td>\n",
       "      <td>1</td>\n",
       "      <td>1.43</td>\n",
       "      <td>6.5</td>\n",
       "      <td>...</td>\n",
       "      <td>1.0</td>\n",
       "      <td>4.966667</td>\n",
       "      <td>1</td>\n",
       "      <td>4</td>\n",
       "      <td>5</td>\n",
       "      <td>5</td>\n",
       "      <td>Central Harlem North</td>\n",
       "      <td>Manhattan</td>\n",
       "      <td>Bloomingdale</td>\n",
       "      <td>Manhattan</td>\n",
       "    </tr>\n",
       "    <tr>\n",
       "      <th>2</th>\n",
       "      <td>1</td>\n",
       "      <td>2017-12-01 08:19:10</td>\n",
       "      <td>2017-12-01 08:33:38</td>\n",
       "      <td>N</td>\n",
       "      <td>1</td>\n",
       "      <td>42</td>\n",
       "      <td>24</td>\n",
       "      <td>2</td>\n",
       "      <td>1.70</td>\n",
       "      <td>10.5</td>\n",
       "      <td>...</td>\n",
       "      <td>1.0</td>\n",
       "      <td>14.466667</td>\n",
       "      <td>1</td>\n",
       "      <td>4</td>\n",
       "      <td>8</td>\n",
       "      <td>8</td>\n",
       "      <td>Central Harlem North</td>\n",
       "      <td>Manhattan</td>\n",
       "      <td>Bloomingdale</td>\n",
       "      <td>Manhattan</td>\n",
       "    </tr>\n",
       "    <tr>\n",
       "      <th>3</th>\n",
       "      <td>2</td>\n",
       "      <td>2017-12-01 07:31:59</td>\n",
       "      <td>2017-12-01 07:48:44</td>\n",
       "      <td>N</td>\n",
       "      <td>1</td>\n",
       "      <td>42</td>\n",
       "      <td>24</td>\n",
       "      <td>1</td>\n",
       "      <td>2.28</td>\n",
       "      <td>12.5</td>\n",
       "      <td>...</td>\n",
       "      <td>1.0</td>\n",
       "      <td>16.750000</td>\n",
       "      <td>1</td>\n",
       "      <td>4</td>\n",
       "      <td>7</td>\n",
       "      <td>7</td>\n",
       "      <td>Central Harlem North</td>\n",
       "      <td>Manhattan</td>\n",
       "      <td>Bloomingdale</td>\n",
       "      <td>Manhattan</td>\n",
       "    </tr>\n",
       "    <tr>\n",
       "      <th>4</th>\n",
       "      <td>2</td>\n",
       "      <td>2017-12-01 10:28:57</td>\n",
       "      <td>2017-12-01 10:41:06</td>\n",
       "      <td>N</td>\n",
       "      <td>1</td>\n",
       "      <td>42</td>\n",
       "      <td>24</td>\n",
       "      <td>1</td>\n",
       "      <td>2.78</td>\n",
       "      <td>11.5</td>\n",
       "      <td>...</td>\n",
       "      <td>1.0</td>\n",
       "      <td>12.150000</td>\n",
       "      <td>1</td>\n",
       "      <td>4</td>\n",
       "      <td>10</td>\n",
       "      <td>10</td>\n",
       "      <td>Central Harlem North</td>\n",
       "      <td>Manhattan</td>\n",
       "      <td>Bloomingdale</td>\n",
       "      <td>Manhattan</td>\n",
       "    </tr>\n",
       "  </tbody>\n",
       "</table>\n",
       "<p>5 rows × 28 columns</p>\n",
       "</div>"
      ],
      "text/plain": [
       "   VendorID lpep_pickup_datetime lpep_dropoff_datetime store_and_fwd_flag  \\\n",
       "0         1  2017-12-01 00:33:14   2017-12-01 00:40:22                  N   \n",
       "1         2  2017-12-01 05:03:44   2017-12-01 05:08:42                  N   \n",
       "2         1  2017-12-01 08:19:10   2017-12-01 08:33:38                  N   \n",
       "3         2  2017-12-01 07:31:59   2017-12-01 07:48:44                  N   \n",
       "4         2  2017-12-01 10:28:57   2017-12-01 10:41:06                  N   \n",
       "\n",
       "   RatecodeID  PULocationID  DOLocationID  passenger_count  trip_distance  \\\n",
       "0           1            42            24                1           1.40   \n",
       "1           1            42            24                1           1.43   \n",
       "2           1            42            24                2           1.70   \n",
       "3           1            42            24                1           2.28   \n",
       "4           1            42            24                1           2.78   \n",
       "\n",
       "   fare_amount     ...      trip_type  trip_duration  trip_dayofmonth  \\\n",
       "0          7.5     ...            1.0       7.133333                1   \n",
       "1          6.5     ...            1.0       4.966667                1   \n",
       "2         10.5     ...            1.0      14.466667                1   \n",
       "3         12.5     ...            1.0      16.750000                1   \n",
       "4         11.5     ...            1.0      12.150000                1   \n",
       "\n",
       "   trip_dayofweek  trip_DO_hourofday  trip_PU_hourofday               PU Zone  \\\n",
       "0               4                  0                  0  Central Harlem North   \n",
       "1               4                  5                  5  Central Harlem North   \n",
       "2               4                  8                  8  Central Harlem North   \n",
       "3               4                  7                  7  Central Harlem North   \n",
       "4               4                 10                 10  Central Harlem North   \n",
       "\n",
       "   PU Borough       DO Zone  DO Borough  \n",
       "0   Manhattan  Bloomingdale   Manhattan  \n",
       "1   Manhattan  Bloomingdale   Manhattan  \n",
       "2   Manhattan  Bloomingdale   Manhattan  \n",
       "3   Manhattan  Bloomingdale   Manhattan  \n",
       "4   Manhattan  Bloomingdale   Manhattan  \n",
       "\n",
       "[5 rows x 28 columns]"
      ]
     },
     "execution_count": 42,
     "metadata": {},
     "output_type": "execute_result"
    }
   ],
   "source": [
    "green_data = pd.merge(left=green_data, right=zone_df[['Zone', 'Location ID', 'Borough']], \\\n",
    "                       left_on='PULocationID', right_on='Location ID')\n",
    "#print(green_data.head())\n",
    "green_data.rename(columns={'Zone':'PU Zone', 'Borough':'PU Borough'}, inplace=True)\n",
    "green_data.drop(labels='Location ID', inplace=True, axis=1)\n",
    "\n",
    "green_data = pd.merge(left=green_data, right=zone_df[['Zone', 'Location ID', 'Borough']], \\\n",
    "                       left_on='DOLocationID', right_on='Location ID')\n",
    "#print(green_data.head())\n",
    "green_data.rename(columns={'Zone':'DO Zone', 'Borough':'DO Borough'}, inplace=True)\n",
    "green_data.drop(labels='Location ID', inplace=True, axis=1)\n",
    "\n",
    "green_data.head()"
   ]
  },
  {
   "cell_type": "markdown",
   "metadata": {
    "slideshow": {
     "slide_type": "notes"
    }
   },
   "source": [
    "Now we take a sample of the yellow data to match the size of the green data for ease of computing. It should still capture the relationships needed and we can always resample to make sure that our models are accurate. "
   ]
  },
  {
   "cell_type": "code",
   "execution_count": 43,
   "metadata": {
    "collapsed": true,
    "slideshow": {
     "slide_type": "notes"
    }
   },
   "outputs": [],
   "source": [
    "#Save the clean data\n",
    "yellow_data.to_csv('TaxiData/yellow_tripdata_clean_2017-12.csv')\n",
    "green_data.to_csv('TaxiData/green_tripdata_clean_2017-12.csv')"
   ]
  },
  {
   "cell_type": "code",
   "execution_count": 3,
   "metadata": {
    "slideshow": {
     "slide_type": "skip"
    }
   },
   "outputs": [],
   "source": [
    "dateparse = lambda x: pd.datetime.strptime(x, '%Y-%m-%d %H:%M:%S')\n",
    "\n",
    "yellow_data = pd.read_csv('TaxiData/yellow_tripdata_clean_2017-12.csv', \\\n",
    "                          parse_dates = ['tpep_pickup_datetime', 'tpep_dropoff_datetime'], date_parser=dateparse)\n",
    "green_data = pd.read_csv('TaxiData/green_tripdata_clean_2017-12.csv', \\\n",
    "                         parse_dates = ['lpep_pickup_datetime', 'lpep_dropoff_datetime'],date_parser=dateparse)\n",
    "\n"
   ]
  },
  {
   "cell_type": "code",
   "execution_count": 4,
   "metadata": {
    "collapsed": true,
    "slideshow": {
     "slide_type": "fragment"
    }
   },
   "outputs": [],
   "source": [
    "#sample the yellow data\n",
    "yellow_data = yellow_data.sample(frac=.1, random_state=10)"
   ]
  },
  {
   "cell_type": "markdown",
   "metadata": {
    "slideshow": {
     "slide_type": "notes"
    }
   },
   "source": [
    "Looking at the relationships."
   ]
  },
  {
   "cell_type": "code",
   "execution_count": 5,
   "metadata": {
    "slideshow": {
     "slide_type": "fragment"
    }
   },
   "outputs": [
    {
     "data": {
      "image/png": "[encoded data removed]",
      "text/plain": [
       "<matplotlib.figure.Figure at 0x21429918710>"
      ]
     },
     "metadata": {},
     "output_type": "display_data"
    },
    {
     "data": {
      "image/png": "[encoded data removed]",
      "text/plain": [
       "<matplotlib.figure.Figure at 0x2145bb4cac8>"
      ]
     },
     "metadata": {},
     "output_type": "display_data"
    }
   ],
   "source": [
    "def plot_heat_maps(data, titles):\n",
    "    for i in range(len(data)):\n",
    "        fig, ax = plt.subplots()\n",
    "\n",
    "        corr_mat = data[i].corr()\n",
    "\n",
    "        #fig.add_subplot(2,1,i+1)\n",
    "        heatmap = ax.pcolor(corr_mat, cmap='bwr', vmin=-1, vmax=1)\n",
    "        ax.set_xticks(np.arange(corr_mat.shape[0] +.5));\n",
    "        ax.set_yticks(np.arange(corr_mat.shape[1] +.5));\n",
    "        ax.invert_yaxis()\n",
    "\n",
    "        #labels\n",
    "        col_lbl = corr_mat.columns\n",
    "        row_lbl = corr_mat.index\n",
    "        ax.set_xticklabels(col_lbl, rotation=-40,  ha='left');\n",
    "        ax.set_yticklabels(row_lbl, va='top');\n",
    "        ax.set_title(titles[i])\n",
    "\n",
    "        cbar = plt.colorbar(heatmap)\n",
    "        cbar.set_label('Correlation')\n",
    "        \n",
    "plot_heat_maps([yellow_data, green_data], ['Yellow', \"Green\"])"
   ]
  },
  {
   "cell_type": "markdown",
   "metadata": {
    "slideshow": {
     "slide_type": "notes"
    }
   },
   "source": [
    "We can see that there are no outstanding coorelations that are of interest. As seen before on the older data."
   ]
  },
  {
   "cell_type": "markdown",
   "metadata": {
    "slideshow": {
     "slide_type": "notes"
    }
   },
   "source": [
    "It may be of interest to see where people being picked up in Manhattan are going and what time of the day.\n",
    "\n",
    "Let us look at the frequencies for each day, hour and day of the week."
   ]
  },
  {
   "cell_type": "markdown",
   "metadata": {
    "slideshow": {
     "slide_type": "slide"
    }
   },
   "source": [
    "## Count Plots"
   ]
  },
  {
   "cell_type": "code",
   "execution_count": 6,
   "metadata": {
    "scrolled": false,
    "slideshow": {
     "slide_type": "subslide"
    }
   },
   "outputs": [
    {
     "data": {
      "image/png": "[encoded data removed]",
      "text/plain": [
       "<matplotlib.figure.Figure at 0x21459f29080>"
      ]
     },
     "metadata": {},
     "output_type": "display_data"
    },
    {
     "data": {
      "image/png": "[encoded data removed]",
      "text/plain": [
       "<matplotlib.figure.Figure at 0x213ff7635f8>"
      ]
     },
     "metadata": {},
     "output_type": "display_data"
    },
    {
     "data": {
      "image/png": "[encoded data removed]",
      "text/plain": [
       "<matplotlib.figure.Figure at 0x213a4a22748>"
      ]
     },
     "metadata": {},
     "output_type": "display_data"
    },
    {
     "data": {
      "image/png": "[encoded data removed]",
      "text/plain": [
       "<matplotlib.figure.Figure at 0x213aad8d2e8>"
      ]
     },
     "metadata": {},
     "output_type": "display_data"
    }
   ],
   "source": [
    "fig = plt.figure()\n",
    "fig.add_subplot(1,2,1)\n",
    "sns.countplot(x=yellow_data['trip_dayofmonth'])\n",
    "fig.add_subplot(1,2,2)\n",
    "sns.countplot(x=green_data['trip_dayofmonth'])\n",
    "fig.axes[0].set_title('Yellow')\n",
    "fig.axes[1].set_title('Green')\n",
    "for ax in fig.axes:\n",
    "    ax.set(xlabel=\"Day\", ylabel=\"Trips\")\n",
    "\n",
    "fig = plt.figure()\n",
    "fig.add_subplot(1,2,1)\n",
    "sns.countplot(x=yellow_data['trip_DO_hourofday'])\n",
    "fig.add_subplot(1,2,2)\n",
    "sns.countplot(x=green_data['trip_DO_hourofday'])\n",
    "fig.axes[0].set_title('Yellow')\n",
    "fig.axes[1].set_title('Green')\n",
    "for ax in fig.axes:\n",
    "    ax.set(xlabel='Hour of day',ylabel='Trips')\n",
    "    \n",
    "fig = plt.figure()\n",
    "fig.add_subplot(1,2,1)\n",
    "sns.countplot(x=yellow_data['trip_PU_hourofday'])\n",
    "fig.add_subplot(1,2,2)\n",
    "sns.countplot(x=green_data['trip_PU_hourofday'])\n",
    "fig.axes[0].set_title('Yellow')\n",
    "fig.axes[1].set_title('Green')\n",
    "for ax in fig.axes:\n",
    "    ax.set(xlabel='Hour of day',ylabel='Trips')\n",
    "\n",
    "fig = plt.figure()\n",
    "fig.add_subplot(1,2,1)\n",
    "sns.countplot(x=yellow_data['trip_dayofweek'])\n",
    "fig.add_subplot(1,2,2)\n",
    "sns.countplot(x=green_data['trip_dayofweek'])\n",
    "fig.axes[0].set_title('Yellow')\n",
    "fig.axes[1].set_title('Green')\n",
    "for ax in fig.axes:\n",
    "    ax.set(xlabel=\"Day of week\", ylabel=\"Trips\")\n",
    "    ax.set_xticklabels(list(calendar.day_name));"
   ]
  },
  {
   "cell_type": "markdown",
   "metadata": {
    "slideshow": {
     "slide_type": "notes"
    }
   },
   "source": [
    "It turns out that in this set of data the most frequent trip days are Friday. And since this is from the month of December we can clearly see the drop in total trips on Christmas day. The demand for taxis during Christmas time is low even on Christmas Eve and the day after. Both yellow and green taxis follow a similar pattern to each other except with more variance in day of the month. This will still work for our purposes. "
   ]
  },
  {
   "cell_type": "markdown",
   "metadata": {
    "slideshow": {
     "slide_type": "slide"
    }
   },
   "source": [
    "## Modeling dropoff location.\n",
    "Now we will finally look to see if we can predict dropoff locations based on pickup location, day of the week, day of the month (December), hour of the day. We will split the data into training and testing sets and also look at specific starting locations to see what the most common dropoffs are for them since we found earlier that the pickup locations seem to be centralized. I'm assuming that it follows similar behavior to the older data looked at in another notebook."
   ]
  },
  {
   "cell_type": "code",
   "execution_count": 7,
   "metadata": {
    "slideshow": {
     "slide_type": "notes"
    }
   },
   "outputs": [
    {
     "name": "stdout",
     "output_type": "stream",
     "text": [
      "<class 'pandas.core.frame.DataFrame'>\n",
      "Int64Index: 929486 entries, 6914626 to 6013468\n",
      "Data columns (total 27 columns):\n",
      "Unnamed: 0               929486 non-null int64\n",
      "VendorID                 929486 non-null int64\n",
      "tpep_pickup_datetime     929486 non-null datetime64[ns]\n",
      "tpep_dropoff_datetime    929486 non-null datetime64[ns]\n",
      "passenger_count          929486 non-null int64\n",
      "trip_distance            929486 non-null float64\n",
      "RatecodeID               929486 non-null int64\n",
      "store_and_fwd_flag       929486 non-null object\n",
      "PULocationID             929486 non-null int64\n",
      "DOLocationID             929486 non-null int64\n",
      "payment_type             929486 non-null int64\n",
      "fare_amount              929486 non-null float64\n",
      "extra                    929486 non-null float64\n",
      "mta_tax                  929486 non-null float64\n",
      "tip_amount               929486 non-null float64\n",
      "tolls_amount             929486 non-null float64\n",
      "improvement_surcharge    929486 non-null float64\n",
      "total_amount             929486 non-null float64\n",
      "trip_duration            929486 non-null float64\n",
      "trip_dayofmonth          929486 non-null int64\n",
      "trip_dayofweek           929486 non-null int64\n",
      "trip_DO_hourofday        929486 non-null int64\n",
      "trip_PU_hourofday        929486 non-null int64\n",
      "PU Zone                  929486 non-null object\n",
      "PU Borough               929486 non-null object\n",
      "DO Zone                  929486 non-null object\n",
      "DO Borough               929486 non-null object\n",
      "dtypes: datetime64[ns](2), float64(9), int64(11), object(5)\n",
      "memory usage: 238.6+ MB\n"
     ]
    }
   ],
   "source": [
    "yellow_data.info()"
   ]
  },
  {
   "cell_type": "markdown",
   "metadata": {
    "slideshow": {
     "slide_type": "subslide"
    }
   },
   "source": [
    "### Spliting the data"
   ]
  },
  {
   "cell_type": "code",
   "execution_count": 18,
   "metadata": {
    "slideshow": {
     "slide_type": "fragment"
    }
   },
   "outputs": [],
   "source": [
    "y_X = yellow_data.sample(frac=1, random_state=9)[['VendorID', 'passenger_count', 'PULocationID', 'trip_dayofmonth', 'trip_dayofweek','trip_PU_hourofday']]\n",
    "y_y = yellow_data.sample(frac=1, random_state=9)['DOLocationID']\n",
    "\n",
    "g_X = green_data[['VendorID', 'passenger_count', 'PULocationID', 'trip_dayofmonth', 'trip_dayofweek','trip_PU_hourofday']]\n",
    "g_y = green_data['DOLocationID']"
   ]
  },
  {
   "cell_type": "code",
   "execution_count": 9,
   "metadata": {
    "slideshow": {
     "slide_type": "notes"
    }
   },
   "outputs": [
    {
     "data": {
      "text/html": [
       "<div>\n",
       "<style>\n",
       "    .dataframe thead tr:only-child th {\n",
       "        text-align: right;\n",
       "    }\n",
       "\n",
       "    .dataframe thead th {\n",
       "        text-align: left;\n",
       "    }\n",
       "\n",
       "    .dataframe tbody tr th {\n",
       "        vertical-align: top;\n",
       "    }\n",
       "</style>\n",
       "<table border=\"1\" class=\"dataframe\">\n",
       "  <thead>\n",
       "    <tr style=\"text-align: right;\">\n",
       "      <th></th>\n",
       "      <th>VendorID</th>\n",
       "      <th>passenger_count</th>\n",
       "      <th>PULocationID</th>\n",
       "      <th>trip_dayofmonth</th>\n",
       "      <th>trip_dayofweek</th>\n",
       "      <th>trip_PU_hourofday</th>\n",
       "    </tr>\n",
       "  </thead>\n",
       "  <tbody>\n",
       "    <tr>\n",
       "      <th>9113954</th>\n",
       "      <td>2</td>\n",
       "      <td>6</td>\n",
       "      <td>161</td>\n",
       "      <td>6</td>\n",
       "      <td>2</td>\n",
       "      <td>10</td>\n",
       "    </tr>\n",
       "    <tr>\n",
       "      <th>7021479</th>\n",
       "      <td>1</td>\n",
       "      <td>1</td>\n",
       "      <td>141</td>\n",
       "      <td>26</td>\n",
       "      <td>1</td>\n",
       "      <td>13</td>\n",
       "    </tr>\n",
       "    <tr>\n",
       "      <th>3516492</th>\n",
       "      <td>1</td>\n",
       "      <td>1</td>\n",
       "      <td>162</td>\n",
       "      <td>18</td>\n",
       "      <td>0</td>\n",
       "      <td>22</td>\n",
       "    </tr>\n",
       "    <tr>\n",
       "      <th>4391214</th>\n",
       "      <td>1</td>\n",
       "      <td>1</td>\n",
       "      <td>142</td>\n",
       "      <td>20</td>\n",
       "      <td>2</td>\n",
       "      <td>14</td>\n",
       "    </tr>\n",
       "    <tr>\n",
       "      <th>4214829</th>\n",
       "      <td>2</td>\n",
       "      <td>1</td>\n",
       "      <td>163</td>\n",
       "      <td>7</td>\n",
       "      <td>3</td>\n",
       "      <td>23</td>\n",
       "    </tr>\n",
       "  </tbody>\n",
       "</table>\n",
       "</div>"
      ],
      "text/plain": [
       "         VendorID  passenger_count  PULocationID  trip_dayofmonth  \\\n",
       "9113954         2                6           161                6   \n",
       "7021479         1                1           141               26   \n",
       "3516492         1                1           162               18   \n",
       "4391214         1                1           142               20   \n",
       "4214829         2                1           163                7   \n",
       "\n",
       "         trip_dayofweek  trip_PU_hourofday  \n",
       "9113954               2                 10  \n",
       "7021479               1                 13  \n",
       "3516492               0                 22  \n",
       "4391214               2                 14  \n",
       "4214829               3                 23  "
      ]
     },
     "execution_count": 9,
     "metadata": {},
     "output_type": "execute_result"
    }
   ],
   "source": [
    "y_X.head()"
   ]
  },
  {
   "cell_type": "code",
   "execution_count": 19,
   "metadata": {
    "slideshow": {
     "slide_type": "notes"
    }
   },
   "outputs": [
    {
     "data": {
      "text/html": [
       "<div>\n",
       "<style>\n",
       "    .dataframe thead tr:only-child th {\n",
       "        text-align: right;\n",
       "    }\n",
       "\n",
       "    .dataframe thead th {\n",
       "        text-align: left;\n",
       "    }\n",
       "\n",
       "    .dataframe tbody tr th {\n",
       "        vertical-align: top;\n",
       "    }\n",
       "</style>\n",
       "<table border=\"1\" class=\"dataframe\">\n",
       "  <thead>\n",
       "    <tr style=\"text-align: right;\">\n",
       "      <th></th>\n",
       "      <th>VendorID</th>\n",
       "      <th>passenger_count</th>\n",
       "      <th>PULocationID</th>\n",
       "      <th>trip_dayofmonth</th>\n",
       "      <th>trip_dayofweek</th>\n",
       "      <th>trip_PU_hourofday</th>\n",
       "    </tr>\n",
       "  </thead>\n",
       "  <tbody>\n",
       "    <tr>\n",
       "      <th>0</th>\n",
       "      <td>1</td>\n",
       "      <td>1</td>\n",
       "      <td>42</td>\n",
       "      <td>1</td>\n",
       "      <td>4</td>\n",
       "      <td>0</td>\n",
       "    </tr>\n",
       "    <tr>\n",
       "      <th>1</th>\n",
       "      <td>2</td>\n",
       "      <td>1</td>\n",
       "      <td>42</td>\n",
       "      <td>1</td>\n",
       "      <td>4</td>\n",
       "      <td>5</td>\n",
       "    </tr>\n",
       "    <tr>\n",
       "      <th>2</th>\n",
       "      <td>1</td>\n",
       "      <td>2</td>\n",
       "      <td>42</td>\n",
       "      <td>1</td>\n",
       "      <td>4</td>\n",
       "      <td>8</td>\n",
       "    </tr>\n",
       "    <tr>\n",
       "      <th>3</th>\n",
       "      <td>2</td>\n",
       "      <td>1</td>\n",
       "      <td>42</td>\n",
       "      <td>1</td>\n",
       "      <td>4</td>\n",
       "      <td>7</td>\n",
       "    </tr>\n",
       "    <tr>\n",
       "      <th>4</th>\n",
       "      <td>2</td>\n",
       "      <td>1</td>\n",
       "      <td>42</td>\n",
       "      <td>1</td>\n",
       "      <td>4</td>\n",
       "      <td>10</td>\n",
       "    </tr>\n",
       "  </tbody>\n",
       "</table>\n",
       "</div>"
      ],
      "text/plain": [
       "   VendorID  passenger_count  PULocationID  trip_dayofmonth  trip_dayofweek  \\\n",
       "0         1                1            42                1               4   \n",
       "1         2                1            42                1               4   \n",
       "2         1                2            42                1               4   \n",
       "3         2                1            42                1               4   \n",
       "4         2                1            42                1               4   \n",
       "\n",
       "   trip_PU_hourofday  \n",
       "0                  0  \n",
       "1                  5  \n",
       "2                  8  \n",
       "3                  7  \n",
       "4                 10  "
      ]
     },
     "execution_count": 19,
     "metadata": {},
     "output_type": "execute_result"
    }
   ],
   "source": [
    "g_X.head()"
   ]
  },
  {
   "cell_type": "markdown",
   "metadata": {
    "slideshow": {
     "slide_type": "slide"
    }
   },
   "source": [
    "#### Decision Tree dropoff classification"
   ]
  },
  {
   "cell_type": "markdown",
   "metadata": {
    "slideshow": {
     "slide_type": "subslide"
    }
   },
   "source": [
    "Yellow:"
   ]
  },
  {
   "cell_type": "code",
   "execution_count": 16,
   "metadata": {
    "scrolled": false,
    "slideshow": {
     "slide_type": "fragment"
    }
   },
   "outputs": [
    {
     "name": "stdout",
     "output_type": "stream",
     "text": [
      "Accuracy on training data =  0.108506323394\n",
      "Accuracy on test data =  0.0823761513417\n",
      "Confusion Matrix: \n",
      " [[ 46   0   1 ...,   0   0   2]\n",
      " [  0   0   0 ...,   0   0   1]\n",
      " [  0   0  14 ...,   0   4  22]\n",
      " ..., \n",
      " [  0   0   1 ...,   0   3  25]\n",
      " [  0   0   2 ...,   0  90 392]\n",
      " [  0   0   1 ...,   0  98 532]]\n"
     ]
    }
   ],
   "source": [
    "decisionTree = tree.DecisionTreeClassifier(min_samples_split=345)\n",
    "\n",
    "y_XTrain, y_XTest, y_yTrain, y_yTest = train_test_split(y_X, y_y, random_state=10, test_size=0.8)\n",
    "# fit the tree with the traing data\n",
    "decisionTree = decisionTree.fit(y_XTrain, y_yTrain)\n",
    "\n",
    "# predict with the training data\n",
    "y_pred_train = decisionTree.predict(y_XTrain)\n",
    "# measure accuracy\n",
    "print('Accuracy on training data = ', metrics.accuracy_score(y_true = y_yTrain, y_pred = y_pred_train))\n",
    "\n",
    "# predict with the test data\n",
    "y_pred = decisionTree.predict(y_XTest)\n",
    "# measure accuracy\n",
    "print('Accuracy on test data = ', metrics.accuracy_score(y_true = y_yTest, y_pred = y_pred))\n",
    "\n",
    "print('Confusion Matrix: \\n', metrics.confusion_matrix(y_true=y_yTest, y_pred=y_pred))"
   ]
  },
  {
   "cell_type": "markdown",
   "metadata": {
    "slideshow": {
     "slide_type": "fragment"
    }
   },
   "source": [
    "Green:"
   ]
  },
  {
   "cell_type": "code",
   "execution_count": 47,
   "metadata": {
    "scrolled": false,
    "slideshow": {
     "slide_type": "fragment"
    }
   },
   "outputs": [
    {
     "name": "stdout",
     "output_type": "stream",
     "text": [
      "Accuracy on training data =  0.192922399804\n",
      "Accuracy on test data =  0.172013103749\n",
      "Confusion Matrix: \n",
      " [[ 0  0  0 ...,  0  0  1]\n",
      " [ 0  0  0 ...,  0  0  0]\n",
      " [ 0  0  0 ...,  0  0  4]\n",
      " ..., \n",
      " [ 0  0  0 ...,  0  0  0]\n",
      " [ 0  0  0 ...,  0  0 12]\n",
      " [ 0  0  0 ...,  0  0 63]]\n"
     ]
    }
   ],
   "source": [
    "decisionTree = tree.DecisionTreeClassifier(min_samples_split=345)\n",
    "\n",
    "g_XTrain, g_XTest, g_yTrain, g_yTest = train_test_split(g_X, g_y, random_state=10, test_size=0.8)\n",
    "# fit the tree with the traing data\n",
    "decisionTree = decisionTree.fit(g_XTrain, g_yTrain)\n",
    "\n",
    "# predict with the training data\n",
    "y_pred_train = decisionTree.predict(g_XTrain)\n",
    "# measure accuracy\n",
    "print('Accuracy on training data = ', metrics.accuracy_score(y_true = g_yTrain, y_pred = y_pred_train))\n",
    "\n",
    "# predict with the test data\n",
    "y_pred = decisionTree.predict(g_XTest)\n",
    "# measure accuracy\n",
    "print('Accuracy on test data = ', metrics.accuracy_score(y_true = g_yTest, y_pred = y_pred))\n",
    "\n",
    "print('Confusion Matrix: \\n', metrics.confusion_matrix(y_true=g_yTest, y_pred=y_pred))"
   ]
  },
  {
   "cell_type": "markdown",
   "metadata": {
    "slideshow": {
     "slide_type": "slide"
    }
   },
   "source": [
    "#### K-nearest neighbors dropoff classification"
   ]
  },
  {
   "cell_type": "markdown",
   "metadata": {
    "slideshow": {
     "slide_type": "subslide"
    }
   },
   "source": [
    "Yellow:"
   ]
  },
  {
   "cell_type": "code",
   "execution_count": 46,
   "metadata": {
    "slideshow": {
     "slide_type": "fragment"
    }
   },
   "outputs": [
    {
     "name": "stdout",
     "output_type": "stream",
     "text": [
      "Accuracy:  0.0714453817902\n",
      "Accuracy on test data =  0.0714453817902\n",
      "Confusion Matrix: \n",
      " [[  1   0   1 ...,   2   0   5]\n",
      " [  0   0   0 ...,   0   0   1]\n",
      " [  0   0  11 ...,   1   9  36]\n",
      " ..., \n",
      " [  1   0   2 ...,   2   5  34]\n",
      " [  0   0   3 ...,   0  29 395]\n",
      " [  1   0   7 ...,   0  42 502]]\n"
     ]
    }
   ],
   "source": [
    "knn_model = KNeighborsClassifier(n_neighbors = 100).fit(y_XTrain, y_yTrain)\n",
    "ypred = knn_model.predict(y_XTest)\n",
    "\n",
    "print('Accuracy: ', metrics.accuracy_score(y_true=y_yTest, y_pred= ypred))\n",
    "\n",
    "print('Accuracy on test data = ', metrics.accuracy_score(y_true = y_yTest, y_pred = ypred))\n",
    "\n",
    "print('Confusion Matrix: \\n', metrics.confusion_matrix(y_true=y_yTest, y_pred=ypred))"
   ]
  },
  {
   "cell_type": "markdown",
   "metadata": {
    "slideshow": {
     "slide_type": "fragment"
    }
   },
   "source": [
    "Green:"
   ]
  },
  {
   "cell_type": "code",
   "execution_count": 44,
   "metadata": {
    "slideshow": {
     "slide_type": "fragment"
    }
   },
   "outputs": [
    {
     "name": "stdout",
     "output_type": "stream",
     "text": [
      "Accuracy:  0.149863711006\n",
      "Accuracy on test data =  0.172013103749\n",
      "Confusion Matrix: \n",
      " [[ 0  0  0 ...,  0  0  0]\n",
      " [ 0  0  0 ...,  0  0  0]\n",
      " [ 0  0  0 ...,  0  0  1]\n",
      " ..., \n",
      " [ 0  0  0 ...,  0  0  0]\n",
      " [ 0  0  0 ...,  0  0 16]\n",
      " [ 0  0  0 ...,  0  0 50]]\n"
     ]
    }
   ],
   "source": [
    "knn_model = KNeighborsClassifier(n_neighbors = 100).fit(g_XTrain, g_yTrain)\n",
    "ypred = knn_model.predict(g_XTest)\n",
    "\n",
    "print('Accuracy: ', metrics.accuracy_score(y_true=g_yTest, y_pred= ypred))\n",
    "\n",
    "print('Accuracy on test data = ', metrics.accuracy_score(y_true = g_yTest, y_pred = y_pred))\n",
    "\n",
    "print('Confusion Matrix: \\n', metrics.confusion_matrix(y_true=g_yTest, y_pred=ypred))"
   ]
  },
  {
   "cell_type": "markdown",
   "metadata": {
    "collapsed": true,
    "slideshow": {
     "slide_type": "slide"
    }
   },
   "source": [
    "### Cross-Validation"
   ]
  },
  {
   "cell_type": "markdown",
   "metadata": {
    "slideshow": {
     "slide_type": "notes"
    }
   },
   "source": [
    "Now its time for some proper cross validation on both kNN and DT."
   ]
  },
  {
   "cell_type": "markdown",
   "metadata": {
    "slideshow": {
     "slide_type": "subslide"
    }
   },
   "source": [
    "Yellow:"
   ]
  },
  {
   "cell_type": "code",
   "execution_count": 34,
   "metadata": {
    "scrolled": false,
    "slideshow": {
     "slide_type": "fragment"
    }
   },
   "outputs": [
    {
     "name": "stderr",
     "output_type": "stream",
     "text": [
      "C:\\Users\\Lukas Gust\\Anaconda3\\lib\\site-packages\\sklearn\\model_selection\\_split.py:605: Warning: The least populated class in y has only 1 members, which is too few. The minimum number of members in any class cannot be less than n_splits=3.\n",
      "  % (min_groups, self.n_splits)), Warning)\n",
      "C:\\Users\\Lukas Gust\\Anaconda3\\lib\\site-packages\\sklearn\\model_selection\\_split.py:605: Warning: The least populated class in y has only 1 members, which is too few. The minimum number of members in any class cannot be less than n_splits=3.\n",
      "  % (min_groups, self.n_splits)), Warning)\n",
      "C:\\Users\\Lukas Gust\\Anaconda3\\lib\\site-packages\\sklearn\\model_selection\\_split.py:605: Warning: The least populated class in y has only 1 members, which is too few. The minimum number of members in any class cannot be less than n_splits=3.\n",
      "  % (min_groups, self.n_splits)), Warning)\n",
      "C:\\Users\\Lukas Gust\\Anaconda3\\lib\\site-packages\\sklearn\\model_selection\\_split.py:605: Warning: The least populated class in y has only 1 members, which is too few. The minimum number of members in any class cannot be less than n_splits=3.\n",
      "  % (min_groups, self.n_splits)), Warning)\n",
      "C:\\Users\\Lukas Gust\\Anaconda3\\lib\\site-packages\\sklearn\\model_selection\\_split.py:605: Warning: The least populated class in y has only 1 members, which is too few. The minimum number of members in any class cannot be less than n_splits=3.\n",
      "  % (min_groups, self.n_splits)), Warning)\n",
      "C:\\Users\\Lukas Gust\\Anaconda3\\lib\\site-packages\\sklearn\\model_selection\\_split.py:605: Warning: The least populated class in y has only 1 members, which is too few. The minimum number of members in any class cannot be less than n_splits=3.\n",
      "  % (min_groups, self.n_splits)), Warning)\n",
      "C:\\Users\\Lukas Gust\\Anaconda3\\lib\\site-packages\\sklearn\\model_selection\\_split.py:605: Warning: The least populated class in y has only 1 members, which is too few. The minimum number of members in any class cannot be less than n_splits=3.\n",
      "  % (min_groups, self.n_splits)), Warning)\n",
      "C:\\Users\\Lukas Gust\\Anaconda3\\lib\\site-packages\\sklearn\\model_selection\\_split.py:605: Warning: The least populated class in y has only 1 members, which is too few. The minimum number of members in any class cannot be less than n_splits=3.\n",
      "  % (min_groups, self.n_splits)), Warning)\n",
      "C:\\Users\\Lukas Gust\\Anaconda3\\lib\\site-packages\\sklearn\\model_selection\\_split.py:605: Warning: The least populated class in y has only 1 members, which is too few. The minimum number of members in any class cannot be less than n_splits=3.\n",
      "  % (min_groups, self.n_splits)), Warning)\n",
      "C:\\Users\\Lukas Gust\\Anaconda3\\lib\\site-packages\\sklearn\\model_selection\\_split.py:605: Warning: The least populated class in y has only 1 members, which is too few. The minimum number of members in any class cannot be less than n_splits=3.\n",
      "  % (min_groups, self.n_splits)), Warning)\n",
      "C:\\Users\\Lukas Gust\\Anaconda3\\lib\\site-packages\\sklearn\\model_selection\\_split.py:605: Warning: The least populated class in y has only 1 members, which is too few. The minimum number of members in any class cannot be less than n_splits=3.\n",
      "  % (min_groups, self.n_splits)), Warning)\n",
      "C:\\Users\\Lukas Gust\\Anaconda3\\lib\\site-packages\\sklearn\\model_selection\\_split.py:605: Warning: The least populated class in y has only 1 members, which is too few. The minimum number of members in any class cannot be less than n_splits=3.\n",
      "  % (min_groups, self.n_splits)), Warning)\n",
      "C:\\Users\\Lukas Gust\\Anaconda3\\lib\\site-packages\\sklearn\\model_selection\\_split.py:605: Warning: The least populated class in y has only 1 members, which is too few. The minimum number of members in any class cannot be less than n_splits=3.\n",
      "  % (min_groups, self.n_splits)), Warning)\n",
      "C:\\Users\\Lukas Gust\\Anaconda3\\lib\\site-packages\\sklearn\\model_selection\\_split.py:605: Warning: The least populated class in y has only 1 members, which is too few. The minimum number of members in any class cannot be less than n_splits=3.\n",
      "  % (min_groups, self.n_splits)), Warning)\n",
      "C:\\Users\\Lukas Gust\\Anaconda3\\lib\\site-packages\\sklearn\\model_selection\\_split.py:605: Warning: The least populated class in y has only 1 members, which is too few. The minimum number of members in any class cannot be less than n_splits=3.\n",
      "  % (min_groups, self.n_splits)), Warning)\n"
     ]
    },
    {
     "name": "stdout",
     "output_type": "stream",
     "text": [
      "Best split:  500.0\n",
      "Best score:  0.0868501242893\n"
     ]
    },
    {
     "data": {
      "image/png": "[encoded data removed]",
      "text/plain": [
       "<matplotlib.figure.Figure at 0x2142772ae80>"
      ]
     },
     "metadata": {},
     "output_type": "display_data"
    }
   ],
   "source": [
    "#cross validation\n",
    "\n",
    "min_split = np.linspace(3, 500, 15)\n",
    "Accuracies = np.zeros(min_split.shape[0])\n",
    "\n",
    "for i, split in enumerate(min_split):\n",
    "    decisionTree = tree.DecisionTreeClassifier(min_samples_split=int(split))\n",
    "    scores = cross_val_score(decisionTree, y_X, y=y_y)\n",
    "    Accuracies[int(i)] = scores.mean()\n",
    "\n",
    "print('Best split: ', min_split[np.argmax(Accuracies)])\n",
    "print('Best score: ', max(Accuracies))\n",
    "\n",
    "plt.plot(min_split,Accuracies)\n",
    "plt.show()"
   ]
  },
  {
   "cell_type": "markdown",
   "metadata": {
    "slideshow": {
     "slide_type": "notes"
    }
   },
   "source": [
    "<b>*Interpretation:*</b> The best min sample split tapers off at 500. The increase from 345 to 500 only increased the accuracy by .4%. This accuracy score is not very high at all but picking a dropoff location at random has a .38% chance of getting it correct. So the decision tree is about 21 times better at predicting dropoff location than a naive random approach. "
   ]
  },
  {
   "cell_type": "code",
   "execution_count": 38,
   "metadata": {
    "scrolled": false,
    "slideshow": {
     "slide_type": "fragment"
    }
   },
   "outputs": [
    {
     "name": "stderr",
     "output_type": "stream",
     "text": [
      "C:\\Users\\Lukas Gust\\Anaconda3\\lib\\site-packages\\sklearn\\model_selection\\_split.py:605: Warning: The least populated class in y has only 1 members, which is too few. The minimum number of members in any class cannot be less than n_splits=3.\n",
      "  % (min_groups, self.n_splits)), Warning)\n",
      "C:\\Users\\Lukas Gust\\Anaconda3\\lib\\site-packages\\sklearn\\model_selection\\_split.py:605: Warning: The least populated class in y has only 1 members, which is too few. The minimum number of members in any class cannot be less than n_splits=3.\n",
      "  % (min_groups, self.n_splits)), Warning)\n",
      "C:\\Users\\Lukas Gust\\Anaconda3\\lib\\site-packages\\sklearn\\model_selection\\_split.py:605: Warning: The least populated class in y has only 1 members, which is too few. The minimum number of members in any class cannot be less than n_splits=3.\n",
      "  % (min_groups, self.n_splits)), Warning)\n",
      "C:\\Users\\Lukas Gust\\Anaconda3\\lib\\site-packages\\sklearn\\model_selection\\_split.py:605: Warning: The least populated class in y has only 1 members, which is too few. The minimum number of members in any class cannot be less than n_splits=3.\n",
      "  % (min_groups, self.n_splits)), Warning)\n",
      "C:\\Users\\Lukas Gust\\Anaconda3\\lib\\site-packages\\sklearn\\model_selection\\_split.py:605: Warning: The least populated class in y has only 1 members, which is too few. The minimum number of members in any class cannot be less than n_splits=3.\n",
      "  % (min_groups, self.n_splits)), Warning)\n",
      "C:\\Users\\Lukas Gust\\Anaconda3\\lib\\site-packages\\sklearn\\model_selection\\_split.py:605: Warning: The least populated class in y has only 1 members, which is too few. The minimum number of members in any class cannot be less than n_splits=3.\n",
      "  % (min_groups, self.n_splits)), Warning)\n",
      "C:\\Users\\Lukas Gust\\Anaconda3\\lib\\site-packages\\sklearn\\model_selection\\_split.py:605: Warning: The least populated class in y has only 1 members, which is too few. The minimum number of members in any class cannot be less than n_splits=3.\n",
      "  % (min_groups, self.n_splits)), Warning)\n",
      "C:\\Users\\Lukas Gust\\Anaconda3\\lib\\site-packages\\sklearn\\model_selection\\_split.py:605: Warning: The least populated class in y has only 1 members, which is too few. The minimum number of members in any class cannot be less than n_splits=3.\n",
      "  % (min_groups, self.n_splits)), Warning)\n",
      "C:\\Users\\Lukas Gust\\Anaconda3\\lib\\site-packages\\sklearn\\model_selection\\_split.py:605: Warning: The least populated class in y has only 1 members, which is too few. The minimum number of members in any class cannot be less than n_splits=3.\n",
      "  % (min_groups, self.n_splits)), Warning)\n",
      "C:\\Users\\Lukas Gust\\Anaconda3\\lib\\site-packages\\sklearn\\model_selection\\_split.py:605: Warning: The least populated class in y has only 1 members, which is too few. The minimum number of members in any class cannot be less than n_splits=3.\n",
      "  % (min_groups, self.n_splits)), Warning)\n"
     ]
    },
    {
     "name": "stdout",
     "output_type": "stream",
     "text": [
      "Best k:  278.222222222\n",
      "Best Accuracy:  0.0792060891763\n"
     ]
    },
    {
     "data": {
      "image/png": "[encoded data removed]",
      "text/plain": [
       "<matplotlib.figure.Figure at 0x2141117d7b8>"
      ]
     },
     "metadata": {},
     "output_type": "display_data"
    }
   ],
   "source": [
    "#cross validation\n",
    "ks = np.linspace(1, 500, 10)\n",
    "Accuracies = np.zeros(ks.shape[0])\n",
    "\n",
    "for i, k in enumerate(ks):\n",
    "    knn_cross = KNeighborsClassifier(n_neighbors=int(k))\n",
    "    scores = cross_val_score(knn_cross, y_X, y=y_y)\n",
    "    Accuracies[int(i)] = scores.mean()\n",
    "\n",
    "print('Best k: ', ks[np.argmax(Accuracies)])\n",
    "print('Best Accuracy: ', max(Accuracies))\n",
    "\n",
    "plt.plot(ks,Accuracies)\n",
    "plt.show()"
   ]
  },
  {
   "cell_type": "markdown",
   "metadata": {
    "slideshow": {
     "slide_type": "notes"
    }
   },
   "source": [
    "<b>*Interpretation:*</b> The best k tapers off at 278. This has a similar interpretation to the DT cross-validation."
   ]
  },
  {
   "cell_type": "markdown",
   "metadata": {
    "slideshow": {
     "slide_type": "fragment"
    }
   },
   "source": [
    "Green:"
   ]
  },
  {
   "cell_type": "code",
   "execution_count": 43,
   "metadata": {
    "slideshow": {
     "slide_type": "fragment"
    }
   },
   "outputs": [
    {
     "name": "stderr",
     "output_type": "stream",
     "text": [
      "C:\\Users\\Lukas Gust\\Anaconda3\\lib\\site-packages\\sklearn\\model_selection\\_split.py:605: Warning: The least populated class in y has only 1 members, which is too few. The minimum number of members in any class cannot be less than n_splits=3.\n",
      "  % (min_groups, self.n_splits)), Warning)\n",
      "C:\\Users\\Lukas Gust\\Anaconda3\\lib\\site-packages\\sklearn\\model_selection\\_split.py:605: Warning: The least populated class in y has only 1 members, which is too few. The minimum number of members in any class cannot be less than n_splits=3.\n",
      "  % (min_groups, self.n_splits)), Warning)\n",
      "C:\\Users\\Lukas Gust\\Anaconda3\\lib\\site-packages\\sklearn\\model_selection\\_split.py:605: Warning: The least populated class in y has only 1 members, which is too few. The minimum number of members in any class cannot be less than n_splits=3.\n",
      "  % (min_groups, self.n_splits)), Warning)\n",
      "C:\\Users\\Lukas Gust\\Anaconda3\\lib\\site-packages\\sklearn\\model_selection\\_split.py:605: Warning: The least populated class in y has only 1 members, which is too few. The minimum number of members in any class cannot be less than n_splits=3.\n",
      "  % (min_groups, self.n_splits)), Warning)\n",
      "C:\\Users\\Lukas Gust\\Anaconda3\\lib\\site-packages\\sklearn\\model_selection\\_split.py:605: Warning: The least populated class in y has only 1 members, which is too few. The minimum number of members in any class cannot be less than n_splits=3.\n",
      "  % (min_groups, self.n_splits)), Warning)\n",
      "C:\\Users\\Lukas Gust\\Anaconda3\\lib\\site-packages\\sklearn\\model_selection\\_split.py:605: Warning: The least populated class in y has only 1 members, which is too few. The minimum number of members in any class cannot be less than n_splits=3.\n",
      "  % (min_groups, self.n_splits)), Warning)\n",
      "C:\\Users\\Lukas Gust\\Anaconda3\\lib\\site-packages\\sklearn\\model_selection\\_split.py:605: Warning: The least populated class in y has only 1 members, which is too few. The minimum number of members in any class cannot be less than n_splits=3.\n",
      "  % (min_groups, self.n_splits)), Warning)\n",
      "C:\\Users\\Lukas Gust\\Anaconda3\\lib\\site-packages\\sklearn\\model_selection\\_split.py:605: Warning: The least populated class in y has only 1 members, which is too few. The minimum number of members in any class cannot be less than n_splits=3.\n",
      "  % (min_groups, self.n_splits)), Warning)\n",
      "C:\\Users\\Lukas Gust\\Anaconda3\\lib\\site-packages\\sklearn\\model_selection\\_split.py:605: Warning: The least populated class in y has only 1 members, which is too few. The minimum number of members in any class cannot be less than n_splits=3.\n",
      "  % (min_groups, self.n_splits)), Warning)\n",
      "C:\\Users\\Lukas Gust\\Anaconda3\\lib\\site-packages\\sklearn\\model_selection\\_split.py:605: Warning: The least populated class in y has only 1 members, which is too few. The minimum number of members in any class cannot be less than n_splits=3.\n",
      "  % (min_groups, self.n_splits)), Warning)\n",
      "C:\\Users\\Lukas Gust\\Anaconda3\\lib\\site-packages\\sklearn\\model_selection\\_split.py:605: Warning: The least populated class in y has only 1 members, which is too few. The minimum number of members in any class cannot be less than n_splits=3.\n",
      "  % (min_groups, self.n_splits)), Warning)\n",
      "C:\\Users\\Lukas Gust\\Anaconda3\\lib\\site-packages\\sklearn\\model_selection\\_split.py:605: Warning: The least populated class in y has only 1 members, which is too few. The minimum number of members in any class cannot be less than n_splits=3.\n",
      "  % (min_groups, self.n_splits)), Warning)\n",
      "C:\\Users\\Lukas Gust\\Anaconda3\\lib\\site-packages\\sklearn\\model_selection\\_split.py:605: Warning: The least populated class in y has only 1 members, which is too few. The minimum number of members in any class cannot be less than n_splits=3.\n",
      "  % (min_groups, self.n_splits)), Warning)\n",
      "C:\\Users\\Lukas Gust\\Anaconda3\\lib\\site-packages\\sklearn\\model_selection\\_split.py:605: Warning: The least populated class in y has only 1 members, which is too few. The minimum number of members in any class cannot be less than n_splits=3.\n",
      "  % (min_groups, self.n_splits)), Warning)\n",
      "C:\\Users\\Lukas Gust\\Anaconda3\\lib\\site-packages\\sklearn\\model_selection\\_split.py:605: Warning: The least populated class in y has only 1 members, which is too few. The minimum number of members in any class cannot be less than n_splits=3.\n",
      "  % (min_groups, self.n_splits)), Warning)\n"
     ]
    },
    {
     "name": "stdout",
     "output_type": "stream",
     "text": [
      "Best split:  400.0\n",
      "Best score:  0.014163558445\n"
     ]
    },
    {
     "data": {
      "image/png": "[encoded data removed]",
      "text/plain": [
       "<matplotlib.figure.Figure at 0x213aadaaa58>"
      ]
     },
     "metadata": {},
     "output_type": "display_data"
    }
   ],
   "source": [
    "#cross validation\n",
    "\n",
    "min_split = np.linspace(300, 400, 15)\n",
    "Accuracies = np.zeros(min_split.shape[0])\n",
    "\n",
    "for i, split in enumerate(min_split):\n",
    "    decisionTree = tree.DecisionTreeClassifier(min_samples_split=int(split))\n",
    "    scores = cross_val_score(decisionTree, g_X, y=g_y)\n",
    "    Accuracies[int(i)] = scores.mean()\n",
    "\n",
    "print('Best split: ', min_split[np.argmax(Accuracies)])\n",
    "print('Best score: ', max(Accuracies))\n",
    "\n",
    "plt.plot(min_split,Accuracies)\n",
    "plt.show()"
   ]
  },
  {
   "cell_type": "markdown",
   "metadata": {
    "slideshow": {
     "slide_type": "notes"
    }
   },
   "source": [
    "<b>*Interpretation:*</b> The DT for the green resulted in a score of 1.4% this is also not great but still better than a random process."
   ]
  },
  {
   "cell_type": "code",
   "execution_count": 42,
   "metadata": {
    "slideshow": {
     "slide_type": "fragment"
    }
   },
   "outputs": [
    {
     "name": "stderr",
     "output_type": "stream",
     "text": [
      "C:\\Users\\Lukas Gust\\Anaconda3\\lib\\site-packages\\sklearn\\model_selection\\_split.py:605: Warning: The least populated class in y has only 1 members, which is too few. The minimum number of members in any class cannot be less than n_splits=3.\n",
      "  % (min_groups, self.n_splits)), Warning)\n",
      "C:\\Users\\Lukas Gust\\Anaconda3\\lib\\site-packages\\sklearn\\model_selection\\_split.py:605: Warning: The least populated class in y has only 1 members, which is too few. The minimum number of members in any class cannot be less than n_splits=3.\n",
      "  % (min_groups, self.n_splits)), Warning)\n",
      "C:\\Users\\Lukas Gust\\Anaconda3\\lib\\site-packages\\sklearn\\model_selection\\_split.py:605: Warning: The least populated class in y has only 1 members, which is too few. The minimum number of members in any class cannot be less than n_splits=3.\n",
      "  % (min_groups, self.n_splits)), Warning)\n",
      "C:\\Users\\Lukas Gust\\Anaconda3\\lib\\site-packages\\sklearn\\model_selection\\_split.py:605: Warning: The least populated class in y has only 1 members, which is too few. The minimum number of members in any class cannot be less than n_splits=3.\n",
      "  % (min_groups, self.n_splits)), Warning)\n"
     ]
    },
    {
     "name": "stdout",
     "output_type": "stream",
     "text": [
      "Best k:  200.0\n",
      "Best Accuracy:  0.0385780186544\n"
     ]
    },
    {
     "data": {
      "image/png": "[encoded data removed]",
      "text/plain": [
       "<matplotlib.figure.Figure at 0x213f5d8fba8>"
      ]
     },
     "metadata": {},
     "output_type": "display_data"
    }
   ],
   "source": [
    "#cross validation\n",
    "ks = np.linspace(10, 200, 4)\n",
    "Accuracies = np.zeros(ks.shape[0])\n",
    "\n",
    "for i, k in enumerate(ks):\n",
    "    knn_cross = KNeighborsClassifier(n_neighbors=int(k))\n",
    "    scores = cross_val_score(knn_cross, g_X, y=g_y)\n",
    "    Accuracies[int(i)] = scores.mean()\n",
    "\n",
    "print('Best k: ', ks[np.argmax(Accuracies)])\n",
    "print('Best Accuracy: ', max(Accuracies))\n",
    "\n",
    "plt.plot(ks,Accuracies)\n",
    "plt.show()"
   ]
  },
  {
   "cell_type": "markdown",
   "metadata": {
    "slideshow": {
     "slide_type": "notes"
    }
   },
   "source": [
    "<b>*Interpretation:*</b> The accuracy tapers off for 200 nearest neighbors. The accuracy is not that great although it is still better than a random process."
   ]
  }
 ],
 "metadata": {
  "celltoolbar": "Raw Cell Format",
  "kernelspec": {
   "display_name": "Python 3",
   "language": "python",
   "name": "python3"
  },
  "language_info": {
   "codemirror_mode": {
    "name": "ipython",
    "version": 3
   },
   "file_extension": ".py",
   "mimetype": "text/x-python",
   "name": "python",
   "nbconvert_exporter": "python",
   "pygments_lexer": "ipython3",
   "version": "3.6.3"
  }
 },
 "nbformat": 4,
 "nbformat_minor": 2
}
