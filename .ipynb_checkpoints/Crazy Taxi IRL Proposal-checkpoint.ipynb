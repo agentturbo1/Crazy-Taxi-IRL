{
 "cells": [
  {
   "cell_type": "markdown",
   "metadata": {},
   "source": [
    "# <center>Crazy Taxi IRL</center> #\n",
    "Is there a case of crazy taxi in real life? We will explore the world of taxis in NYC through data provided by the NYC Taxi & Limo Commision (TLC). Now it is certain, at least we hope, that taxi drivers do not perform crazy stunts to get a better score at the end of the day, but it would be interesting and exciting. "
   ]
  },
  {
   "cell_type": "markdown",
   "metadata": {},
   "source": [
    "## Info ##\n",
    "Names: Lukas Gust, Omar Hussain <br>\n",
    "UID's: u0936790, u0847356<br>\n",
    "E-mails: lukasgust31@gmail.com, h.omar.mail@gmail.com<br>\n",
    "GitHub: https://github.com/agentturbo1/Crazy-Taxi-IRL"
   ]
  },
  {
   "cell_type": "markdown",
   "metadata": {},
   "source": [
    "## Background & Motivation ##\n",
    "Taxis are a part of many New Yorker’s daily lives. We thought that it would be interesting to analyze data entries from NY taxis and find interesting relationships that may be lurking under the surface. There may be interesting inferences that can be made to make taxi user’s or taxi driver’s lives better. In addition to this, it can be useful to preemptively find where someone is travelling based only on their starting location and current conditions. Using predictive planning, routes can be chosen earlier to maximize efficiency and clear some traffic.\n"
   ]
  },
  {
   "cell_type": "markdown",
   "metadata": {},
   "source": [
    "## Objectives ##\n",
    "The first objective of the project is to find correlations in the taxi data. These correlations can be used to make models, and the models can be used to predict outcomes, e.g. finding end location based on starting location, time, and date. Last, it must be asked if any of the correlations that are found are useful for the taxi industry. Regardless of this, the findings will be presented in an easy to understand manner. Find correlations between certain laws passed about drunk driving and see if there is an increase in taxi uses.\n"
   ]
  },
  {
   "cell_type": "markdown",
   "metadata": {},
   "source": [
    "## Data ##\n",
    "Provided by the NYC Taxi & Limo Commission (TLC) from the following link:\n",
    "http://www.nyc.gov/html/tlc/html/about/trip_record_data.shtml\n",
    "This is from NYC’s government website. It is readily available and fairly neat from initial skimming.\n",
    "More specific location data, such as businesses can be extracted from <a href=\"https://www.openstreetmap.org/\">OpenStreetMap.org (OSM)</a>.\n"
   ]
  },
  {
   "cell_type": "markdown",
   "metadata": {},
   "source": [
    "## Data Processing ##\n",
    "Due to the neat nature of the data source there will be little data cleanup besides removing outliers and manipulating it to get the data that we want in order to do our analysis. We are likely to analyze several months worth of data to explore/infer some interesting relationships. We will be deriving trip duration from the given times of pickup and drop off. There are several different types of taxis in the NYC area. Yellow taxis: these are your usual yellow taxis that you see in the downtown Manhattan area. Green taxis: these are taxis that are purposely serve the outer regions of NY e.g. Staten Island, Brooklyn, Queens, and Upper Manhattan. Finally FHV (For-Hire-Vehicle): these are the rest of the taxi operations that operate under the TLC and are submitted to TLC by the operation. The data sets for these three are a little different and some manipulating will be needed in order to infer any interesting relationships based on type. We may have to acquire some empirical data based on physical research on certain locations that taxis are found at frequently e.g. businesses and area wealth. Searching for laws pertaining to driving under the influence and our given time intervals. "
   ]
  },
  {
   "cell_type": "markdown",
   "metadata": {},
   "source": [
    "## Exploratory Data Analysis ##\n",
    "Look at basic statistics for individual datasets see if we can identify any trends, if not combine them and check again. Find correlations of the variables to see if we can predict any results. Look at statistics from different types of taxis to see if there are similarities or differences. To do this we will use scatter plots and value counts to visually find relationships and then formalize them into the appropriate model. Find taxi ‘hotspots’. Frequencies of number of passengers. Count of trips on certain days or times of the day.\n"
   ]
  },
  {
   "cell_type": "markdown",
   "metadata": {},
   "source": [
    "## Methodology ##\n",
    "Predictive planning will require machine learning, so using that to find accuracy with test data will allow us to gauge our models. In addition to this, regression tools can be used to find specific factors that may contribute to the results more than others, which can then be used to refine the model.\n"
   ]
  },
  {
   "cell_type": "markdown",
   "metadata": {},
   "source": [
    "## Schedule ##\n",
    "Here is a rough timeline for our project progress: <br>\n",
    "Week 9: Finish homework 8 <br>\n",
    "Week 10: Spring break WOO! 🎉🎉🎉🎉 <br>\n",
    "Week 11: Collect data <br>\n",
    "Week 12: Identify correlations and make models<br>\n",
    "Week 13: Make predictions based on models - check results and refine<br>\n",
    "Week 14: Visualisation<br>\n",
    "Week 15: Make presentation and turn in<br>\n"
   ]
  }
 ],
 "metadata": {
  "kernelspec": {
   "display_name": "Python 3",
   "language": "python",
   "name": "python3"
  },
  "language_info": {
   "codemirror_mode": {
    "name": "ipython",
    "version": 3
   },
   "file_extension": ".py",
   "mimetype": "text/x-python",
   "name": "python",
   "nbconvert_exporter": "python",
   "pygments_lexer": "ipython3",
   "version": "3.6.3"
  }
 },
 "nbformat": 4,
 "nbformat_minor": 2
}
