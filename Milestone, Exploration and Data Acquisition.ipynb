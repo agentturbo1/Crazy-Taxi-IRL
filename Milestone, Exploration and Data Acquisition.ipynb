{
 "cells": [
  {
   "cell_type": "markdown",
   "metadata": {},
   "source": [
    "# Crazy Taxi Data Exploration and Acquisition\n",
    "Here we will explore the data sets obtained from http://www.nyc.gov/html/tlc/html/about/trip_record_data.shtml. This is data collected by the Taxi & Limo Commission on New York City taxis. \n",
    "\n",
    "There are three types of taxis in NYC. Yellow: these are your usual yellow taxis and are restricted to pickup customers in the downtown Manhattan area. Green: these are called Boro Taxis and service everything outside of downtown Manhattan and are allowed to drop off in the Manhattan exclusionary zone. FHV (For-Hire-Vehicle): these are prearranged taxis all around NY through approved third party dispatchers.\n",
    "\n",
    "Here is a map of the zones:\n",
    "![Map of zones](map_service_area_map_thumbnail.jpg)\n",
    "*Yellow area is the yellow taxi area, green area is the green taxi area.(http://www.nyc.gov/html/tlc/html/passenger/shl_passenger.shtml)*"
   ]
  },
  {
   "cell_type": "markdown",
   "metadata": {},
   "source": [
    "## Loading the Data into pandas"
   ]
  },
  {
   "cell_type": "code",
   "execution_count": null,
   "metadata": {
    "collapsed": true
   },
   "outputs": [],
   "source": []
  }
 ],
 "metadata": {
  "kernelspec": {
   "display_name": "Python 3",
   "language": "python",
   "name": "python3"
  },
  "language_info": {
   "codemirror_mode": {
    "name": "ipython",
    "version": 3
   },
   "file_extension": ".py",
   "mimetype": "text/x-python",
   "name": "python",
   "nbconvert_exporter": "python",
   "pygments_lexer": "ipython3",
   "version": "3.6.3"
  }
 },
 "nbformat": 4,
 "nbformat_minor": 2
}
